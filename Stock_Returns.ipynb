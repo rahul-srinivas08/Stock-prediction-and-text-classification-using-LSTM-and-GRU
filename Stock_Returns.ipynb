{
  "nbformat": 4,
  "nbformat_minor": 0,
  "metadata": {
    "colab": {
      "name": " Stock Returns.ipynb",
      "provenance": []
    },
    "kernelspec": {
      "name": "python3",
      "display_name": "Python 3"
    }
  },
  "cells": [
    {
      "cell_type": "code",
      "metadata": {
        "id": "og6UbdCUNIcR",
        "colab_type": "code",
        "colab": {
          "base_uri": "https://localhost:8080/",
          "height": 118
        },
        "outputId": "967cf8fe-c8d3-4ec9-aabc-00c2d18f7e10"
      },
      "source": [
        "# Install TensorFlow\n",
        "# !pip install -q tensorflow-gpu==2.0.0-beta1\n",
        "\n",
        "try:\n",
        "  %tensorflow_version 2.x  # Colab only.\n",
        "except Exception:\n",
        "  pass\n",
        "\n",
        "import tensorflow as tf\n",
        "print(tf.__version__)"
      ],
      "execution_count": 3,
      "outputs": [
        {
          "output_type": "stream",
          "text": [
            "`%tensorflow_version` only switches the major version: 1.x or 2.x.\n",
            "You set: `2.x  # Colab only.`. This will be interpreted as: `2.x`.\n",
            "\n",
            "\n",
            "TensorFlow 2.x selected.\n",
            "2.3.0\n"
          ],
          "name": "stdout"
        }
      ]
    },
    {
      "cell_type": "code",
      "metadata": {
        "id": "CkTsVBeKNLSc",
        "colab_type": "code",
        "colab": {}
      },
      "source": [
        "# More imports\n",
        "from tensorflow.keras.layers import Input, LSTM, GRU, SimpleRNN, Dense, GlobalMaxPool1D\n",
        "from tensorflow.keras.models import Model\n",
        "from tensorflow.keras.optimizers import SGD, Adam\n",
        "\n",
        "import numpy as np\n",
        "import pandas as pd\n",
        "import matplotlib.pyplot as plt\n",
        "from sklearn.preprocessing import StandardScaler"
      ],
      "execution_count": 4,
      "outputs": []
    },
    {
      "cell_type": "code",
      "metadata": {
        "id": "UboW9Q45NM8r",
        "colab_type": "code",
        "colab": {}
      },
      "source": [
        "df = pd.read_csv('https://raw.githubusercontent.com/lazyprogrammer/machine_learning_examples/master/tf2.0/sbux.csv')"
      ],
      "execution_count": 5,
      "outputs": []
    },
    {
      "cell_type": "code",
      "metadata": {
        "id": "KPQYSh1DNR8X",
        "colab_type": "code",
        "colab": {
          "base_uri": "https://localhost:8080/",
          "height": 195
        },
        "outputId": "723f568a-01a6-4a39-a1ca-adc9274ed121"
      },
      "source": [
        "df.head()"
      ],
      "execution_count": 6,
      "outputs": [
        {
          "output_type": "execute_result",
          "data": {
            "text/html": [
              "<div>\n",
              "<style scoped>\n",
              "    .dataframe tbody tr th:only-of-type {\n",
              "        vertical-align: middle;\n",
              "    }\n",
              "\n",
              "    .dataframe tbody tr th {\n",
              "        vertical-align: top;\n",
              "    }\n",
              "\n",
              "    .dataframe thead th {\n",
              "        text-align: right;\n",
              "    }\n",
              "</style>\n",
              "<table border=\"1\" class=\"dataframe\">\n",
              "  <thead>\n",
              "    <tr style=\"text-align: right;\">\n",
              "      <th></th>\n",
              "      <th>date</th>\n",
              "      <th>open</th>\n",
              "      <th>high</th>\n",
              "      <th>low</th>\n",
              "      <th>close</th>\n",
              "      <th>volume</th>\n",
              "      <th>Name</th>\n",
              "    </tr>\n",
              "  </thead>\n",
              "  <tbody>\n",
              "    <tr>\n",
              "      <th>0</th>\n",
              "      <td>2013-02-08</td>\n",
              "      <td>27.920</td>\n",
              "      <td>28.325</td>\n",
              "      <td>27.920</td>\n",
              "      <td>28.185</td>\n",
              "      <td>7146296</td>\n",
              "      <td>SBUX</td>\n",
              "    </tr>\n",
              "    <tr>\n",
              "      <th>1</th>\n",
              "      <td>2013-02-11</td>\n",
              "      <td>28.260</td>\n",
              "      <td>28.260</td>\n",
              "      <td>27.930</td>\n",
              "      <td>28.070</td>\n",
              "      <td>5457354</td>\n",
              "      <td>SBUX</td>\n",
              "    </tr>\n",
              "    <tr>\n",
              "      <th>2</th>\n",
              "      <td>2013-02-12</td>\n",
              "      <td>28.000</td>\n",
              "      <td>28.275</td>\n",
              "      <td>27.975</td>\n",
              "      <td>28.130</td>\n",
              "      <td>8665592</td>\n",
              "      <td>SBUX</td>\n",
              "    </tr>\n",
              "    <tr>\n",
              "      <th>3</th>\n",
              "      <td>2013-02-13</td>\n",
              "      <td>28.230</td>\n",
              "      <td>28.230</td>\n",
              "      <td>27.750</td>\n",
              "      <td>27.915</td>\n",
              "      <td>7022056</td>\n",
              "      <td>SBUX</td>\n",
              "    </tr>\n",
              "    <tr>\n",
              "      <th>4</th>\n",
              "      <td>2013-02-14</td>\n",
              "      <td>27.765</td>\n",
              "      <td>27.905</td>\n",
              "      <td>27.675</td>\n",
              "      <td>27.775</td>\n",
              "      <td>8899188</td>\n",
              "      <td>SBUX</td>\n",
              "    </tr>\n",
              "  </tbody>\n",
              "</table>\n",
              "</div>"
            ],
            "text/plain": [
              "         date    open    high     low   close   volume  Name\n",
              "0  2013-02-08  27.920  28.325  27.920  28.185  7146296  SBUX\n",
              "1  2013-02-11  28.260  28.260  27.930  28.070  5457354  SBUX\n",
              "2  2013-02-12  28.000  28.275  27.975  28.130  8665592  SBUX\n",
              "3  2013-02-13  28.230  28.230  27.750  27.915  7022056  SBUX\n",
              "4  2013-02-14  27.765  27.905  27.675  27.775  8899188  SBUX"
            ]
          },
          "metadata": {
            "tags": []
          },
          "execution_count": 6
        }
      ]
    },
    {
      "cell_type": "code",
      "metadata": {
        "id": "aXS_tRGENWn9",
        "colab_type": "code",
        "colab": {}
      },
      "source": [
        "# Start by doing the WRONG thing - trying to predict the price itself\n",
        "series = df['close'].values.reshape(-1, 1)"
      ],
      "execution_count": 7,
      "outputs": []
    },
    {
      "cell_type": "code",
      "metadata": {
        "id": "TS3e0N-RNbab",
        "colab_type": "code",
        "colab": {
          "base_uri": "https://localhost:8080/",
          "height": 101
        },
        "outputId": "8e149a32-49a9-4caf-c201-a75068ed6ef7"
      },
      "source": [
        "series[:5]"
      ],
      "execution_count": 8,
      "outputs": [
        {
          "output_type": "execute_result",
          "data": {
            "text/plain": [
              "array([[28.185],\n",
              "       [28.07 ],\n",
              "       [28.13 ],\n",
              "       [27.915],\n",
              "       [27.775]])"
            ]
          },
          "metadata": {
            "tags": []
          },
          "execution_count": 8
        }
      ]
    },
    {
      "cell_type": "code",
      "metadata": {
        "id": "0sV7JZyqNhJD",
        "colab_type": "code",
        "colab": {}
      },
      "source": [
        "# Normalize the data\n",
        "# Note: I didn't think about where the true boundary is, this is just approx.\n",
        "scaler = StandardScaler()\n",
        "scaler.fit(series[:len(series) // 2])\n",
        "series = scaler.transform(series).flatten()"
      ],
      "execution_count": 9,
      "outputs": []
    },
    {
      "cell_type": "code",
      "metadata": {
        "id": "B2dQ2XNpNnTP",
        "colab_type": "code",
        "colab": {
          "base_uri": "https://localhost:8080/",
          "height": 34
        },
        "outputId": "7e872e91-df70-42dc-fe79-24375378c00a"
      },
      "source": [
        "series[:5]"
      ],
      "execution_count": 10,
      "outputs": [
        {
          "output_type": "execute_result",
          "data": {
            "text/plain": [
              "array([-1.62500489, -1.64174953, -1.6330132 , -1.66431839, -1.68470317])"
            ]
          },
          "metadata": {
            "tags": []
          },
          "execution_count": 10
        }
      ]
    },
    {
      "cell_type": "code",
      "metadata": {
        "id": "4aAvtjcNNoxn",
        "colab_type": "code",
        "colab": {
          "base_uri": "https://localhost:8080/",
          "height": 34
        },
        "outputId": "5b56572a-3e1a-4625-d53b-8914d3bb2c82"
      },
      "source": [
        "### build the dataset\n",
        "# let's see if we can use T past values to predict the next value\n",
        "T = 10\n",
        "D = 1\n",
        "X = []\n",
        "Y = []\n",
        "for t in range(len(series) - T):\n",
        "  x = series[t:t+T]\n",
        "  X.append(x)\n",
        "  y = series[t+T]\n",
        "  Y.append(y)\n",
        "\n",
        "X = np.array(X).reshape(-1, T, 1) # Now the data should be N x T x D\n",
        "Y = np.array(Y)\n",
        "N = len(X)\n",
        "print(\"X.shape\", X.shape, \"Y.shape\", Y.shape)"
      ],
      "execution_count": 11,
      "outputs": [
        {
          "output_type": "stream",
          "text": [
            "X.shape (1249, 10, 1) Y.shape (1249,)\n"
          ],
          "name": "stdout"
        }
      ]
    },
    {
      "cell_type": "code",
      "metadata": {
        "id": "STDxG9d6OKm5",
        "colab_type": "code",
        "colab": {
          "base_uri": "https://localhost:8080/",
          "height": 185
        },
        "outputId": "096532f4-28ca-488d-e13e-6b363ebf35be"
      },
      "source": [
        "X[0]"
      ],
      "execution_count": 12,
      "outputs": [
        {
          "output_type": "execute_result",
          "data": {
            "text/plain": [
              "array([[-1.62500489],\n",
              "       [-1.64174953],\n",
              "       [-1.6330132 ],\n",
              "       [-1.66431839],\n",
              "       [-1.68470317],\n",
              "       [-1.77279453],\n",
              "       [-1.76478623],\n",
              "       [-1.84778139],\n",
              "       [-1.84486928],\n",
              "       [-1.78517101]])"
            ]
          },
          "metadata": {
            "tags": []
          },
          "execution_count": 12
        }
      ]
    },
    {
      "cell_type": "code",
      "metadata": {
        "id": "DMdvTG-nOZyT",
        "colab_type": "code",
        "colab": {
          "base_uri": "https://localhost:8080/",
          "height": 34
        },
        "outputId": "bae803f3-ba31-4f2f-e5bf-25752518d513"
      },
      "source": [
        "Y[0]"
      ],
      "execution_count": 13,
      "outputs": [
        {
          "output_type": "execute_result",
          "data": {
            "text/plain": [
              "-1.8550616725763345"
            ]
          },
          "metadata": {
            "tags": []
          },
          "execution_count": 13
        }
      ]
    },
    {
      "cell_type": "code",
      "metadata": {
        "id": "rRQMrl35Oc0N",
        "colab_type": "code",
        "colab": {
          "base_uri": "https://localhost:8080/",
          "height": 1000
        },
        "outputId": "bf10c69b-1787-4f3a-b812-721ed0aa28df"
      },
      "source": [
        "### try autoregressive RNN model\n",
        "i = Input(shape=(T, 1))\n",
        "x = LSTM(5)(i)\n",
        "x = Dense(1)(x)\n",
        "model = Model(i, x)\n",
        "model.compile(\n",
        "  loss='mse',\n",
        "  optimizer=Adam(lr=0.1),\n",
        ")\n",
        "\n",
        "# train the RNN\n",
        "r = model.fit(\n",
        "  X[:-N//2], Y[:-N//2],\n",
        "  epochs=80,\n",
        "  validation_data=(X[-N//2:], Y[-N//2:]),\n",
        ")"
      ],
      "execution_count": 14,
      "outputs": [
        {
          "output_type": "stream",
          "text": [
            "Epoch 1/80\n",
            "20/20 [==============================] - 1s 27ms/step - loss: 0.1140 - val_loss: 0.0822\n",
            "Epoch 2/80\n",
            "20/20 [==============================] - 0s 6ms/step - loss: 0.0153 - val_loss: 0.0549\n",
            "Epoch 3/80\n",
            "20/20 [==============================] - 0s 6ms/step - loss: 0.0075 - val_loss: 0.0189\n",
            "Epoch 4/80\n",
            "20/20 [==============================] - 0s 6ms/step - loss: 0.0055 - val_loss: 0.0143\n",
            "Epoch 5/80\n",
            "20/20 [==============================] - 0s 6ms/step - loss: 0.0063 - val_loss: 0.0139\n",
            "Epoch 6/80\n",
            "20/20 [==============================] - 0s 6ms/step - loss: 0.0077 - val_loss: 0.0262\n",
            "Epoch 7/80\n",
            "20/20 [==============================] - 0s 6ms/step - loss: 0.0076 - val_loss: 0.0381\n",
            "Epoch 8/80\n",
            "20/20 [==============================] - 0s 7ms/step - loss: 0.0062 - val_loss: 0.0215\n",
            "Epoch 9/80\n",
            "20/20 [==============================] - 0s 6ms/step - loss: 0.0055 - val_loss: 0.0159\n",
            "Epoch 10/80\n",
            "20/20 [==============================] - 0s 6ms/step - loss: 0.0052 - val_loss: 0.0252\n",
            "Epoch 11/80\n",
            "20/20 [==============================] - 0s 6ms/step - loss: 0.0056 - val_loss: 0.0310\n",
            "Epoch 12/80\n",
            "20/20 [==============================] - 0s 6ms/step - loss: 0.0055 - val_loss: 0.0281\n",
            "Epoch 13/80\n",
            "20/20 [==============================] - 0s 6ms/step - loss: 0.0053 - val_loss: 0.0141\n",
            "Epoch 14/80\n",
            "20/20 [==============================] - 0s 6ms/step - loss: 0.0062 - val_loss: 0.0856\n",
            "Epoch 15/80\n",
            "20/20 [==============================] - 0s 6ms/step - loss: 0.0098 - val_loss: 0.0231\n",
            "Epoch 16/80\n",
            "20/20 [==============================] - 0s 6ms/step - loss: 0.0063 - val_loss: 0.0188\n",
            "Epoch 17/80\n",
            "20/20 [==============================] - 0s 6ms/step - loss: 0.0054 - val_loss: 0.0155\n",
            "Epoch 18/80\n",
            "20/20 [==============================] - 0s 7ms/step - loss: 0.0050 - val_loss: 0.0166\n",
            "Epoch 19/80\n",
            "20/20 [==============================] - 0s 6ms/step - loss: 0.0056 - val_loss: 0.0157\n",
            "Epoch 20/80\n",
            "20/20 [==============================] - 0s 6ms/step - loss: 0.0052 - val_loss: 0.0151\n",
            "Epoch 21/80\n",
            "20/20 [==============================] - 0s 6ms/step - loss: 0.0049 - val_loss: 0.0212\n",
            "Epoch 22/80\n",
            "20/20 [==============================] - 0s 6ms/step - loss: 0.0063 - val_loss: 0.0181\n",
            "Epoch 23/80\n",
            "20/20 [==============================] - 0s 8ms/step - loss: 0.0054 - val_loss: 0.0161\n",
            "Epoch 24/80\n",
            "20/20 [==============================] - 0s 6ms/step - loss: 0.0053 - val_loss: 0.0157\n",
            "Epoch 25/80\n",
            "20/20 [==============================] - 0s 7ms/step - loss: 0.0052 - val_loss: 0.0171\n",
            "Epoch 26/80\n",
            "20/20 [==============================] - 0s 6ms/step - loss: 0.0057 - val_loss: 0.0156\n",
            "Epoch 27/80\n",
            "20/20 [==============================] - 0s 6ms/step - loss: 0.0058 - val_loss: 0.0156\n",
            "Epoch 28/80\n",
            "20/20 [==============================] - 0s 6ms/step - loss: 0.0069 - val_loss: 0.0231\n",
            "Epoch 29/80\n",
            "20/20 [==============================] - 0s 7ms/step - loss: 0.0064 - val_loss: 0.0165\n",
            "Epoch 30/80\n",
            "20/20 [==============================] - 0s 6ms/step - loss: 0.0059 - val_loss: 0.0205\n",
            "Epoch 31/80\n",
            "20/20 [==============================] - 0s 6ms/step - loss: 0.0055 - val_loss: 0.0304\n",
            "Epoch 32/80\n",
            "20/20 [==============================] - 0s 6ms/step - loss: 0.0069 - val_loss: 0.0379\n",
            "Epoch 33/80\n",
            "20/20 [==============================] - 0s 6ms/step - loss: 0.0076 - val_loss: 0.0198\n",
            "Epoch 34/80\n",
            "20/20 [==============================] - 0s 6ms/step - loss: 0.0070 - val_loss: 0.0251\n",
            "Epoch 35/80\n",
            "20/20 [==============================] - 0s 6ms/step - loss: 0.0070 - val_loss: 0.0133\n",
            "Epoch 36/80\n",
            "20/20 [==============================] - 0s 6ms/step - loss: 0.0070 - val_loss: 0.0171\n",
            "Epoch 37/80\n",
            "20/20 [==============================] - 0s 6ms/step - loss: 0.0063 - val_loss: 0.0173\n",
            "Epoch 38/80\n",
            "20/20 [==============================] - 0s 6ms/step - loss: 0.0058 - val_loss: 0.0224\n",
            "Epoch 39/80\n",
            "20/20 [==============================] - 0s 6ms/step - loss: 0.0057 - val_loss: 0.0421\n",
            "Epoch 40/80\n",
            "20/20 [==============================] - 0s 6ms/step - loss: 0.0068 - val_loss: 0.0145\n",
            "Epoch 41/80\n",
            "20/20 [==============================] - 0s 6ms/step - loss: 0.0077 - val_loss: 0.0392\n",
            "Epoch 42/80\n",
            "20/20 [==============================] - 0s 7ms/step - loss: 0.0058 - val_loss: 0.0192\n",
            "Epoch 43/80\n",
            "20/20 [==============================] - 0s 6ms/step - loss: 0.0058 - val_loss: 0.0130\n",
            "Epoch 44/80\n",
            "20/20 [==============================] - 0s 6ms/step - loss: 0.0069 - val_loss: 0.0708\n",
            "Epoch 45/80\n",
            "20/20 [==============================] - 0s 6ms/step - loss: 0.0096 - val_loss: 0.0217\n",
            "Epoch 46/80\n",
            "20/20 [==============================] - 0s 6ms/step - loss: 0.0054 - val_loss: 0.0150\n",
            "Epoch 47/80\n",
            "20/20 [==============================] - 0s 6ms/step - loss: 0.0056 - val_loss: 0.0135\n",
            "Epoch 48/80\n",
            "20/20 [==============================] - 0s 7ms/step - loss: 0.0060 - val_loss: 0.0216\n",
            "Epoch 49/80\n",
            "20/20 [==============================] - 0s 6ms/step - loss: 0.0053 - val_loss: 0.0161\n",
            "Epoch 50/80\n",
            "20/20 [==============================] - 0s 6ms/step - loss: 0.0053 - val_loss: 0.0335\n",
            "Epoch 51/80\n",
            "20/20 [==============================] - 0s 6ms/step - loss: 0.0081 - val_loss: 0.0485\n",
            "Epoch 52/80\n",
            "20/20 [==============================] - 0s 6ms/step - loss: 0.0078 - val_loss: 0.0159\n",
            "Epoch 53/80\n",
            "20/20 [==============================] - 0s 6ms/step - loss: 0.0076 - val_loss: 0.0121\n",
            "Epoch 54/80\n",
            "20/20 [==============================] - 0s 6ms/step - loss: 0.0067 - val_loss: 0.0136\n",
            "Epoch 55/80\n",
            "20/20 [==============================] - 0s 6ms/step - loss: 0.0056 - val_loss: 0.0180\n",
            "Epoch 56/80\n",
            "20/20 [==============================] - 0s 6ms/step - loss: 0.0061 - val_loss: 0.0136\n",
            "Epoch 57/80\n",
            "20/20 [==============================] - 0s 6ms/step - loss: 0.0054 - val_loss: 0.0182\n",
            "Epoch 58/80\n",
            "20/20 [==============================] - 0s 6ms/step - loss: 0.0053 - val_loss: 0.0138\n",
            "Epoch 59/80\n",
            "20/20 [==============================] - 0s 6ms/step - loss: 0.0053 - val_loss: 0.0366\n",
            "Epoch 60/80\n",
            "20/20 [==============================] - 0s 6ms/step - loss: 0.0059 - val_loss: 0.0203\n",
            "Epoch 61/80\n",
            "20/20 [==============================] - 0s 6ms/step - loss: 0.0055 - val_loss: 0.0157\n",
            "Epoch 62/80\n",
            "20/20 [==============================] - 0s 6ms/step - loss: 0.0057 - val_loss: 0.0152\n",
            "Epoch 63/80\n",
            "20/20 [==============================] - 0s 6ms/step - loss: 0.0060 - val_loss: 0.0158\n",
            "Epoch 64/80\n",
            "20/20 [==============================] - 0s 6ms/step - loss: 0.0053 - val_loss: 0.0154\n",
            "Epoch 65/80\n",
            "20/20 [==============================] - 0s 6ms/step - loss: 0.0059 - val_loss: 0.0167\n",
            "Epoch 66/80\n",
            "20/20 [==============================] - 0s 6ms/step - loss: 0.0060 - val_loss: 0.0156\n",
            "Epoch 67/80\n",
            "20/20 [==============================] - 0s 6ms/step - loss: 0.0060 - val_loss: 0.0342\n",
            "Epoch 68/80\n",
            "20/20 [==============================] - 0s 6ms/step - loss: 0.0075 - val_loss: 0.0157\n",
            "Epoch 69/80\n",
            "20/20 [==============================] - 0s 6ms/step - loss: 0.0068 - val_loss: 0.0139\n",
            "Epoch 70/80\n",
            "20/20 [==============================] - 0s 6ms/step - loss: 0.0066 - val_loss: 0.0163\n",
            "Epoch 71/80\n",
            "20/20 [==============================] - 0s 6ms/step - loss: 0.0059 - val_loss: 0.0150\n",
            "Epoch 72/80\n",
            "20/20 [==============================] - 0s 6ms/step - loss: 0.0062 - val_loss: 0.0137\n",
            "Epoch 73/80\n",
            "20/20 [==============================] - 0s 6ms/step - loss: 0.0049 - val_loss: 0.0164\n",
            "Epoch 74/80\n",
            "20/20 [==============================] - 0s 6ms/step - loss: 0.0058 - val_loss: 0.0139\n",
            "Epoch 75/80\n",
            "20/20 [==============================] - 0s 6ms/step - loss: 0.0064 - val_loss: 0.0145\n",
            "Epoch 76/80\n",
            "20/20 [==============================] - 0s 6ms/step - loss: 0.0061 - val_loss: 0.0190\n",
            "Epoch 77/80\n",
            "20/20 [==============================] - 0s 6ms/step - loss: 0.0059 - val_loss: 0.0121\n",
            "Epoch 78/80\n",
            "20/20 [==============================] - 0s 6ms/step - loss: 0.0051 - val_loss: 0.0130\n",
            "Epoch 79/80\n",
            "20/20 [==============================] - 0s 7ms/step - loss: 0.0060 - val_loss: 0.0140\n",
            "Epoch 80/80\n",
            "20/20 [==============================] - 0s 6ms/step - loss: 0.0051 - val_loss: 0.0147\n"
          ],
          "name": "stdout"
        }
      ]
    },
    {
      "cell_type": "code",
      "metadata": {
        "id": "Bu1_SdFkOrwo",
        "colab_type": "code",
        "colab": {
          "base_uri": "https://localhost:8080/",
          "height": 282
        },
        "outputId": "aa13f066-5e60-423d-c159-0576ee1e404c"
      },
      "source": [
        "# Plot loss per iteration\n",
        "import matplotlib.pyplot as plt\n",
        "plt.plot(r.history['loss'], label='loss')\n",
        "plt.plot(r.history['val_loss'], label='val_loss')\n",
        "plt.legend()"
      ],
      "execution_count": 15,
      "outputs": [
        {
          "output_type": "execute_result",
          "data": {
            "text/plain": [
              "<matplotlib.legend.Legend at 0x7f0c66ca9828>"
            ]
          },
          "metadata": {
            "tags": []
          },
          "execution_count": 15
        },
        {
          "output_type": "display_data",
          "data": {
            "image/png": "[encoded data removed]",
            "text/plain": [
              "<Figure size 432x288 with 1 Axes>"
            ]
          },
          "metadata": {
            "tags": [],
            "needs_background": "light"
          }
        }
      ]
    },
    {
      "cell_type": "code",
      "metadata": {
        "id": "co6PlYJkOwK0",
        "colab_type": "code",
        "colab": {
          "base_uri": "https://localhost:8080/",
          "height": 282
        },
        "outputId": "83155cae-9311-4ee9-c406-90e5fa9a06e1"
      },
      "source": [
        "# One-step forecast using true targets\n",
        "outputs = model.predict(X)\n",
        "print(outputs.shape)\n",
        "predictions = outputs[:,0]\n",
        "\n",
        "plt.plot(Y, label='targets')\n",
        "plt.plot(predictions, label='predictions')\n",
        "plt.legend()\n",
        "plt.show()"
      ],
      "execution_count": 16,
      "outputs": [
        {
          "output_type": "stream",
          "text": [
            "(1249, 1)\n"
          ],
          "name": "stdout"
        },
        {
          "output_type": "display_data",
          "data": {
            "image/png": "[encoded data removed]",
            "text/plain": [
              "<Figure size 432x288 with 1 Axes>"
            ]
          },
          "metadata": {
            "tags": [],
            "needs_background": "light"
          }
        }
      ]
    },
    {
      "cell_type": "code",
      "metadata": {
        "id": "Ue3TENiAO09u",
        "colab_type": "code",
        "colab": {
          "base_uri": "https://localhost:8080/",
          "height": 282
        },
        "outputId": "a2618a8b-bb9e-4a5d-eae5-a381b7ecb5e5"
      },
      "source": [
        "# Multi-step forecast\n",
        "validation_target = Y[-N//2:]\n",
        "validation_predictions = []\n",
        "\n",
        "# first validation input\n",
        "last_x = X[-N//2] # 1-D array of length T\n",
        "\n",
        "while len(validation_predictions) < len(validation_target):\n",
        "  p = model.predict(last_x.reshape(1, T, 1))[0,0] # 1x1 array -> scalar\n",
        "  \n",
        "  # update the predictions list\n",
        "  validation_predictions.append(p)\n",
        "  \n",
        "  # make the new input\n",
        "  last_x = np.roll(last_x, -1)\n",
        "  last_x[-1] = p\n",
        "\n",
        "plt.plot(validation_target, label='forecast target')\n",
        "plt.plot(validation_predictions, label='forecast prediction')\n",
        "plt.legend()"
      ],
      "execution_count": 17,
      "outputs": [
        {
          "output_type": "execute_result",
          "data": {
            "text/plain": [
              "<matplotlib.legend.Legend at 0x7f0c67d482e8>"
            ]
          },
          "metadata": {
            "tags": []
          },
          "execution_count": 17
        },
        {
          "output_type": "display_data",
          "data": {
            "image/png": "[encoded data removed]",
            "text/plain": [
              "<Figure size 432x288 with 1 Axes>"
            ]
          },
          "metadata": {
            "tags": [],
            "needs_background": "light"
          }
        }
      ]
    },
    {
      "cell_type": "code",
      "metadata": {
        "id": "YcfksCSDO33a",
        "colab_type": "code",
        "colab": {}
      },
      "source": [
        "# calculate returns by first shifting the data\n",
        "df['PrevClose'] = df['close'].shift(1) # move everything up 1\n",
        "\n",
        "# so now it's like\n",
        "# close / prev close\n",
        "# x[2] x[1]\n",
        "# x[3] x[2]\n",
        "# x[4] x[3]\n",
        "# ...\n",
        "# x[t] x[t-1]"
      ],
      "execution_count": 18,
      "outputs": []
    },
    {
      "cell_type": "code",
      "metadata": {
        "id": "KhSwcCtjPUFE",
        "colab_type": "code",
        "colab": {
          "base_uri": "https://localhost:8080/",
          "height": 195
        },
        "outputId": "38dddb52-fe3e-41dc-fbfd-1e1825e4a4b9"
      },
      "source": [
        "df.head()"
      ],
      "execution_count": 19,
      "outputs": [
        {
          "output_type": "execute_result",
          "data": {
            "text/html": [
              "<div>\n",
              "<style scoped>\n",
              "    .dataframe tbody tr th:only-of-type {\n",
              "        vertical-align: middle;\n",
              "    }\n",
              "\n",
              "    .dataframe tbody tr th {\n",
              "        vertical-align: top;\n",
              "    }\n",
              "\n",
              "    .dataframe thead th {\n",
              "        text-align: right;\n",
              "    }\n",
              "</style>\n",
              "<table border=\"1\" class=\"dataframe\">\n",
              "  <thead>\n",
              "    <tr style=\"text-align: right;\">\n",
              "      <th></th>\n",
              "      <th>date</th>\n",
              "      <th>open</th>\n",
              "      <th>high</th>\n",
              "      <th>low</th>\n",
              "      <th>close</th>\n",
              "      <th>volume</th>\n",
              "      <th>Name</th>\n",
              "      <th>PrevClose</th>\n",
              "    </tr>\n",
              "  </thead>\n",
              "  <tbody>\n",
              "    <tr>\n",
              "      <th>0</th>\n",
              "      <td>2013-02-08</td>\n",
              "      <td>27.920</td>\n",
              "      <td>28.325</td>\n",
              "      <td>27.920</td>\n",
              "      <td>28.185</td>\n",
              "      <td>7146296</td>\n",
              "      <td>SBUX</td>\n",
              "      <td>NaN</td>\n",
              "    </tr>\n",
              "    <tr>\n",
              "      <th>1</th>\n",
              "      <td>2013-02-11</td>\n",
              "      <td>28.260</td>\n",
              "      <td>28.260</td>\n",
              "      <td>27.930</td>\n",
              "      <td>28.070</td>\n",
              "      <td>5457354</td>\n",
              "      <td>SBUX</td>\n",
              "      <td>28.185</td>\n",
              "    </tr>\n",
              "    <tr>\n",
              "      <th>2</th>\n",
              "      <td>2013-02-12</td>\n",
              "      <td>28.000</td>\n",
              "      <td>28.275</td>\n",
              "      <td>27.975</td>\n",
              "      <td>28.130</td>\n",
              "      <td>8665592</td>\n",
              "      <td>SBUX</td>\n",
              "      <td>28.070</td>\n",
              "    </tr>\n",
              "    <tr>\n",
              "      <th>3</th>\n",
              "      <td>2013-02-13</td>\n",
              "      <td>28.230</td>\n",
              "      <td>28.230</td>\n",
              "      <td>27.750</td>\n",
              "      <td>27.915</td>\n",
              "      <td>7022056</td>\n",
              "      <td>SBUX</td>\n",
              "      <td>28.130</td>\n",
              "    </tr>\n",
              "    <tr>\n",
              "      <th>4</th>\n",
              "      <td>2013-02-14</td>\n",
              "      <td>27.765</td>\n",
              "      <td>27.905</td>\n",
              "      <td>27.675</td>\n",
              "      <td>27.775</td>\n",
              "      <td>8899188</td>\n",
              "      <td>SBUX</td>\n",
              "      <td>27.915</td>\n",
              "    </tr>\n",
              "  </tbody>\n",
              "</table>\n",
              "</div>"
            ],
            "text/plain": [
              "         date    open    high     low   close   volume  Name  PrevClose\n",
              "0  2013-02-08  27.920  28.325  27.920  28.185  7146296  SBUX        NaN\n",
              "1  2013-02-11  28.260  28.260  27.930  28.070  5457354  SBUX     28.185\n",
              "2  2013-02-12  28.000  28.275  27.975  28.130  8665592  SBUX     28.070\n",
              "3  2013-02-13  28.230  28.230  27.750  27.915  7022056  SBUX     28.130\n",
              "4  2013-02-14  27.765  27.905  27.675  27.775  8899188  SBUX     27.915"
            ]
          },
          "metadata": {
            "tags": []
          },
          "execution_count": 19
        }
      ]
    },
    {
      "cell_type": "code",
      "metadata": {
        "id": "8lMaaoroPXdP",
        "colab_type": "code",
        "colab": {}
      },
      "source": [
        "# then the return is\n",
        "# (x[t] - x[t-1]) / x[t-1]\n",
        "df['Return'] = (df['close'] - df['PrevClose']) / df['PrevClose']"
      ],
      "execution_count": 21,
      "outputs": []
    },
    {
      "cell_type": "code",
      "metadata": {
        "id": "kfRY8kwlPZ15",
        "colab_type": "code",
        "colab": {
          "base_uri": "https://localhost:8080/",
          "height": 282
        },
        "outputId": "108297ba-a6f0-4153-8341-b2c05e17384a"
      },
      "source": [
        "# Now let's try an LSTM to predict returns\n",
        "df['Return'].hist()"
      ],
      "execution_count": 22,
      "outputs": [
        {
          "output_type": "execute_result",
          "data": {
            "text/plain": [
              "<matplotlib.axes._subplots.AxesSubplot at 0x7f0c6603d780>"
            ]
          },
          "metadata": {
            "tags": []
          },
          "execution_count": 22
        },
        {
          "output_type": "display_data",
          "data": {
            "image/png": "[encoded data removed]",
            "text/plain": [
              "<Figure size 432x288 with 1 Axes>"
            ]
          },
          "metadata": {
            "tags": [],
            "needs_background": "light"
          }
        }
      ]
    },
    {
      "cell_type": "code",
      "metadata": {
        "id": "vY2bub6aPfJV",
        "colab_type": "code",
        "colab": {}
      },
      "source": [
        "series = df['Return'].values[1:].reshape(-1, 1)\n",
        "\n",
        "# Normalize the data\n",
        "# Note: I didn't think about where the true boundary is, this is just approx.\n",
        "scaler = StandardScaler()\n",
        "scaler.fit(series[:len(series) // 2])\n",
        "series = scaler.transform(series).flatten()"
      ],
      "execution_count": 23,
      "outputs": []
    },
    {
      "cell_type": "code",
      "metadata": {
        "id": "micJUol6Pi3f",
        "colab_type": "code",
        "colab": {
          "base_uri": "https://localhost:8080/",
          "height": 34
        },
        "outputId": "133f18a1-15ee-4517-bbbb-ab8aac97dd42"
      },
      "source": [
        "### build the dataset\n",
        "# let's see if we can use T past values to predict the next value\n",
        "T = 10\n",
        "D = 1\n",
        "X = []\n",
        "Y = []\n",
        "for t in range(len(series) - T):\n",
        "  x = series[t:t+T]\n",
        "  X.append(x)\n",
        "  y = series[t+T]\n",
        "  Y.append(y)\n",
        "\n",
        "X = np.array(X).reshape(-1, T, 1) # Now the data should be N x T x D\n",
        "Y = np.array(Y)\n",
        "N = len(X)\n",
        "print(\"X.shape\", X.shape, \"Y.shape\", Y.shape)"
      ],
      "execution_count": 24,
      "outputs": [
        {
          "output_type": "stream",
          "text": [
            "X.shape (1248, 10, 1) Y.shape (1248,)\n"
          ],
          "name": "stdout"
        }
      ]
    },
    {
      "cell_type": "code",
      "metadata": {
        "id": "jeNxAiaXPmGX",
        "colab_type": "code",
        "colab": {
          "base_uri": "https://localhost:8080/",
          "height": 1000
        },
        "outputId": "e0667d10-c3a0-432b-8338-34e75383b103"
      },
      "source": [
        "### try autoregressive RNN model\n",
        "i = Input(shape=(T, 1))\n",
        "x = LSTM(5)(i)\n",
        "x = Dense(1)(x)\n",
        "model = Model(i, x)\n",
        "model.compile(\n",
        "  loss='mse',\n",
        "  optimizer=Adam(lr=0.01),\n",
        ")\n",
        "\n",
        "# train the RNN\n",
        "r = model.fit(\n",
        "  X[:-N//2], Y[:-N//2],\n",
        "  epochs=80,\n",
        "  validation_data=(X[-N//2:], Y[-N//2:]),\n",
        ")"
      ],
      "execution_count": 25,
      "outputs": [
        {
          "output_type": "stream",
          "text": [
            "Epoch 1/80\n",
            "20/20 [==============================] - 0s 24ms/step - loss: 0.9905 - val_loss: 1.1489\n",
            "Epoch 2/80\n",
            "20/20 [==============================] - 0s 6ms/step - loss: 0.9893 - val_loss: 1.1429\n",
            "Epoch 3/80\n",
            "20/20 [==============================] - 0s 6ms/step - loss: 0.9849 - val_loss: 1.1438\n",
            "Epoch 4/80\n",
            "20/20 [==============================] - 0s 7ms/step - loss: 0.9844 - val_loss: 1.1480\n",
            "Epoch 5/80\n",
            "20/20 [==============================] - 0s 6ms/step - loss: 0.9813 - val_loss: 1.1533\n",
            "Epoch 6/80\n",
            "20/20 [==============================] - 0s 6ms/step - loss: 0.9823 - val_loss: 1.1472\n",
            "Epoch 7/80\n",
            "20/20 [==============================] - 0s 7ms/step - loss: 0.9868 - val_loss: 1.1512\n",
            "Epoch 8/80\n",
            "20/20 [==============================] - 0s 6ms/step - loss: 0.9783 - val_loss: 1.1523\n",
            "Epoch 9/80\n",
            "20/20 [==============================] - 0s 6ms/step - loss: 0.9802 - val_loss: 1.1510\n",
            "Epoch 10/80\n",
            "20/20 [==============================] - 0s 7ms/step - loss: 0.9747 - val_loss: 1.1646\n",
            "Epoch 11/80\n",
            "20/20 [==============================] - 0s 6ms/step - loss: 0.9733 - val_loss: 1.1662\n",
            "Epoch 12/80\n",
            "20/20 [==============================] - 0s 6ms/step - loss: 0.9706 - val_loss: 1.1630\n",
            "Epoch 13/80\n",
            "20/20 [==============================] - 0s 6ms/step - loss: 0.9656 - val_loss: 1.1705\n",
            "Epoch 14/80\n",
            "20/20 [==============================] - 0s 6ms/step - loss: 0.9565 - val_loss: 1.1958\n",
            "Epoch 15/80\n",
            "20/20 [==============================] - 0s 6ms/step - loss: 0.9547 - val_loss: 1.2184\n",
            "Epoch 16/80\n",
            "20/20 [==============================] - 0s 6ms/step - loss: 0.9544 - val_loss: 1.1952\n",
            "Epoch 17/80\n",
            "20/20 [==============================] - 0s 6ms/step - loss: 0.9453 - val_loss: 1.2215\n",
            "Epoch 18/80\n",
            "20/20 [==============================] - 0s 6ms/step - loss: 0.9484 - val_loss: 1.2601\n",
            "Epoch 19/80\n",
            "20/20 [==============================] - 0s 6ms/step - loss: 0.9515 - val_loss: 1.2538\n",
            "Epoch 20/80\n",
            "20/20 [==============================] - 0s 6ms/step - loss: 0.9364 - val_loss: 1.2118\n",
            "Epoch 21/80\n",
            "20/20 [==============================] - 0s 6ms/step - loss: 0.9371 - val_loss: 1.2400\n",
            "Epoch 22/80\n",
            "20/20 [==============================] - 0s 6ms/step - loss: 0.9365 - val_loss: 1.2516\n",
            "Epoch 23/80\n",
            "20/20 [==============================] - 0s 6ms/step - loss: 0.9294 - val_loss: 1.2558\n",
            "Epoch 24/80\n",
            "20/20 [==============================] - 0s 6ms/step - loss: 0.9422 - val_loss: 1.2730\n",
            "Epoch 25/80\n",
            "20/20 [==============================] - 0s 6ms/step - loss: 0.9181 - val_loss: 1.2632\n",
            "Epoch 26/80\n",
            "20/20 [==============================] - 0s 7ms/step - loss: 0.9251 - val_loss: 1.2809\n",
            "Epoch 27/80\n",
            "20/20 [==============================] - 0s 6ms/step - loss: 0.9137 - val_loss: 1.2828\n",
            "Epoch 28/80\n",
            "20/20 [==============================] - 0s 6ms/step - loss: 0.9215 - val_loss: 1.2891\n",
            "Epoch 29/80\n",
            "20/20 [==============================] - 0s 7ms/step - loss: 0.9308 - val_loss: 1.2707\n",
            "Epoch 30/80\n",
            "20/20 [==============================] - 0s 6ms/step - loss: 0.9161 - val_loss: 1.3029\n",
            "Epoch 31/80\n",
            "20/20 [==============================] - 0s 6ms/step - loss: 0.9078 - val_loss: 1.2830\n",
            "Epoch 32/80\n",
            "20/20 [==============================] - 0s 6ms/step - loss: 0.9082 - val_loss: 1.3224\n",
            "Epoch 33/80\n",
            "20/20 [==============================] - 0s 6ms/step - loss: 0.9122 - val_loss: 1.3265\n",
            "Epoch 34/80\n",
            "20/20 [==============================] - 0s 6ms/step - loss: 0.8984 - val_loss: 1.3428\n",
            "Epoch 35/80\n",
            "20/20 [==============================] - 0s 6ms/step - loss: 0.8996 - val_loss: 1.3039\n",
            "Epoch 36/80\n",
            "20/20 [==============================] - 0s 6ms/step - loss: 0.9027 - val_loss: 1.3429\n",
            "Epoch 37/80\n",
            "20/20 [==============================] - 0s 6ms/step - loss: 0.8924 - val_loss: 1.3450\n",
            "Epoch 38/80\n",
            "20/20 [==============================] - 0s 6ms/step - loss: 0.8860 - val_loss: 1.3696\n",
            "Epoch 39/80\n",
            "20/20 [==============================] - 0s 6ms/step - loss: 0.8819 - val_loss: 1.3430\n",
            "Epoch 40/80\n",
            "20/20 [==============================] - 0s 6ms/step - loss: 0.8790 - val_loss: 1.4093\n",
            "Epoch 41/80\n",
            "20/20 [==============================] - 0s 6ms/step - loss: 0.8816 - val_loss: 1.3611\n",
            "Epoch 42/80\n",
            "20/20 [==============================] - 0s 6ms/step - loss: 0.8752 - val_loss: 1.3797\n",
            "Epoch 43/80\n",
            "20/20 [==============================] - 0s 6ms/step - loss: 0.8720 - val_loss: 1.3560\n",
            "Epoch 44/80\n",
            "20/20 [==============================] - 0s 6ms/step - loss: 0.8759 - val_loss: 1.3985\n",
            "Epoch 45/80\n",
            "20/20 [==============================] - 0s 6ms/step - loss: 0.8716 - val_loss: 1.3669\n",
            "Epoch 46/80\n",
            "20/20 [==============================] - 0s 6ms/step - loss: 0.8647 - val_loss: 1.4276\n",
            "Epoch 47/80\n",
            "20/20 [==============================] - 0s 6ms/step - loss: 0.8636 - val_loss: 1.4129\n",
            "Epoch 48/80\n",
            "20/20 [==============================] - 0s 6ms/step - loss: 0.8662 - val_loss: 1.4274\n",
            "Epoch 49/80\n",
            "20/20 [==============================] - 0s 6ms/step - loss: 0.8598 - val_loss: 1.4668\n",
            "Epoch 50/80\n",
            "20/20 [==============================] - 0s 6ms/step - loss: 0.8692 - val_loss: 1.4678\n",
            "Epoch 51/80\n",
            "20/20 [==============================] - 0s 6ms/step - loss: 0.8502 - val_loss: 1.4017\n",
            "Epoch 52/80\n",
            "20/20 [==============================] - 0s 6ms/step - loss: 0.8516 - val_loss: 1.4527\n",
            "Epoch 53/80\n",
            "20/20 [==============================] - 0s 6ms/step - loss: 0.8507 - val_loss: 1.4591\n",
            "Epoch 54/80\n",
            "20/20 [==============================] - 0s 6ms/step - loss: 0.8558 - val_loss: 1.3320\n",
            "Epoch 55/80\n",
            "20/20 [==============================] - 0s 6ms/step - loss: 0.8795 - val_loss: 1.4671\n",
            "Epoch 56/80\n",
            "20/20 [==============================] - 0s 6ms/step - loss: 0.8554 - val_loss: 1.3649\n",
            "Epoch 57/80\n",
            "20/20 [==============================] - 0s 6ms/step - loss: 0.8494 - val_loss: 1.4998\n",
            "Epoch 58/80\n",
            "20/20 [==============================] - 0s 7ms/step - loss: 0.8510 - val_loss: 1.4370\n",
            "Epoch 59/80\n",
            "20/20 [==============================] - 0s 6ms/step - loss: 0.8411 - val_loss: 1.4296\n",
            "Epoch 60/80\n",
            "20/20 [==============================] - 0s 7ms/step - loss: 0.8385 - val_loss: 1.5318\n",
            "Epoch 61/80\n",
            "20/20 [==============================] - 0s 7ms/step - loss: 0.8557 - val_loss: 1.3453\n",
            "Epoch 62/80\n",
            "20/20 [==============================] - 0s 7ms/step - loss: 0.8379 - val_loss: 1.4729\n",
            "Epoch 63/80\n",
            "20/20 [==============================] - 0s 6ms/step - loss: 0.8300 - val_loss: 1.4063\n",
            "Epoch 64/80\n",
            "20/20 [==============================] - 0s 6ms/step - loss: 0.8415 - val_loss: 1.4786\n",
            "Epoch 65/80\n",
            "20/20 [==============================] - 0s 6ms/step - loss: 0.8365 - val_loss: 1.4557\n",
            "Epoch 66/80\n",
            "20/20 [==============================] - 0s 6ms/step - loss: 0.8371 - val_loss: 1.4927\n",
            "Epoch 67/80\n",
            "20/20 [==============================] - 0s 6ms/step - loss: 0.8277 - val_loss: 1.4074\n",
            "Epoch 68/80\n",
            "20/20 [==============================] - 0s 7ms/step - loss: 0.8360 - val_loss: 1.6282\n",
            "Epoch 69/80\n",
            "20/20 [==============================] - 0s 7ms/step - loss: 0.8288 - val_loss: 1.4389\n",
            "Epoch 70/80\n",
            "20/20 [==============================] - 0s 7ms/step - loss: 0.8256 - val_loss: 1.4268\n",
            "Epoch 71/80\n",
            "20/20 [==============================] - 0s 7ms/step - loss: 0.8348 - val_loss: 1.5096\n",
            "Epoch 72/80\n",
            "20/20 [==============================] - 0s 7ms/step - loss: 0.8336 - val_loss: 1.4811\n",
            "Epoch 73/80\n",
            "20/20 [==============================] - 0s 6ms/step - loss: 0.8288 - val_loss: 1.4984\n",
            "Epoch 74/80\n",
            "20/20 [==============================] - 0s 7ms/step - loss: 0.8197 - val_loss: 1.4584\n",
            "Epoch 75/80\n",
            "20/20 [==============================] - 0s 7ms/step - loss: 0.8190 - val_loss: 1.5546\n",
            "Epoch 76/80\n",
            "20/20 [==============================] - 0s 6ms/step - loss: 0.8286 - val_loss: 1.6096\n",
            "Epoch 77/80\n",
            "20/20 [==============================] - 0s 6ms/step - loss: 0.8253 - val_loss: 1.4800\n",
            "Epoch 78/80\n",
            "20/20 [==============================] - 0s 6ms/step - loss: 0.8092 - val_loss: 1.4421\n",
            "Epoch 79/80\n",
            "20/20 [==============================] - 0s 7ms/step - loss: 0.8148 - val_loss: 1.4679\n",
            "Epoch 80/80\n",
            "20/20 [==============================] - 0s 7ms/step - loss: 0.8177 - val_loss: 1.5455\n"
          ],
          "name": "stdout"
        }
      ]
    },
    {
      "cell_type": "code",
      "metadata": {
        "id": "OrlLDkXcPrT5",
        "colab_type": "code",
        "colab": {
          "base_uri": "https://localhost:8080/",
          "height": 282
        },
        "outputId": "65142f27-9103-4e79-9c8d-aca3d3aa0562"
      },
      "source": [
        "# Plot loss per iteration\n",
        "import matplotlib.pyplot as plt\n",
        "plt.plot(r.history['loss'], label='loss')\n",
        "plt.plot(r.history['val_loss'], label='val_loss')\n",
        "plt.legend()"
      ],
      "execution_count": 26,
      "outputs": [
        {
          "output_type": "execute_result",
          "data": {
            "text/plain": [
              "<matplotlib.legend.Legend at 0x7f0c65f32390>"
            ]
          },
          "metadata": {
            "tags": []
          },
          "execution_count": 26
        },
        {
          "output_type": "display_data",
          "data": {
            "image/png": "[encoded data removed]",
            "text/plain": [
              "<Figure size 432x288 with 1 Axes>"
            ]
          },
          "metadata": {
            "tags": [],
            "needs_background": "light"
          }
        }
      ]
    },
    {
      "cell_type": "code",
      "metadata": {
        "id": "YusZ6AD5Pv2l",
        "colab_type": "code",
        "colab": {
          "base_uri": "https://localhost:8080/",
          "height": 282
        },
        "outputId": "e1d0bd91-4a5b-4b15-b519-b928a08c0060"
      },
      "source": [
        "# One-step forecast using true targets\n",
        "outputs = model.predict(X)\n",
        "print(outputs.shape)\n",
        "predictions = outputs[:,0]\n",
        "\n",
        "plt.plot(Y, label='targets')\n",
        "plt.plot(predictions, label='predictions')\n",
        "plt.legend()\n",
        "plt.show()"
      ],
      "execution_count": 27,
      "outputs": [
        {
          "output_type": "stream",
          "text": [
            "(1248, 1)\n"
          ],
          "name": "stdout"
        },
        {
          "output_type": "display_data",
          "data": {
            "image/png": "[encoded data removed]",
            "text/plain": [
              "<Figure size 432x288 with 1 Axes>"
            ]
          },
          "metadata": {
            "tags": [],
            "needs_background": "light"
          }
        }
      ]
    },
    {
      "cell_type": "code",
      "metadata": {
        "id": "Qa1z36rTP03z",
        "colab_type": "code",
        "colab": {
          "base_uri": "https://localhost:8080/",
          "height": 282
        },
        "outputId": "940c3935-468e-441b-d6ef-d4bc02b00e03"
      },
      "source": [
        "# Multi-step forecast\n",
        "validation_target = Y[-N//2:]\n",
        "validation_predictions = []\n",
        "\n",
        "# first validation input\n",
        "last_x = X[-N//2] # 1-D array of length T\n",
        "\n",
        "while len(validation_predictions) < len(validation_target):\n",
        "  p = model.predict(last_x.reshape(1, T, 1))[0,0] # 1x1 array -> scalar\n",
        "  \n",
        "  # update the predictions list\n",
        "  validation_predictions.append(p)\n",
        "  \n",
        "  # make the new input\n",
        "  last_x = np.roll(last_x, -1)\n",
        "  last_x[-1] = p\n",
        "\n",
        "plt.plot(validation_target, label='forecast target')\n",
        "plt.plot(validation_predictions, label='forecast prediction')\n",
        "plt.legend()"
      ],
      "execution_count": 28,
      "outputs": [
        {
          "output_type": "execute_result",
          "data": {
            "text/plain": [
              "<matplotlib.legend.Legend at 0x7f0c6597bf28>"
            ]
          },
          "metadata": {
            "tags": []
          },
          "execution_count": 28
        },
        {
          "output_type": "display_data",
          "data": {
            "image/png": "[encoded data removed]",
            "text/plain": [
              "<Figure size 432x288 with 1 Axes>"
            ]
          },
          "metadata": {
            "tags": [],
            "needs_background": "light"
          }
        }
      ]
    },
    {
      "cell_type": "code",
      "metadata": {
        "id": "tSW7Zk2pP7QM",
        "colab_type": "code",
        "colab": {}
      },
      "source": [
        "# Now turn the full data into numpy arrays\n",
        "\n",
        "# Not yet in the final \"X\" format!\n",
        "input_data = df[['open', 'high', 'low', 'close', 'volume']].values\n",
        "targets = df['Return'].values"
      ],
      "execution_count": 30,
      "outputs": []
    },
    {
      "cell_type": "code",
      "metadata": {
        "id": "jUke8NQzRBT2",
        "colab_type": "code",
        "colab": {}
      },
      "source": [
        "# Now make the actual data which will go into the neural network\n",
        "T = 10 # the number of time steps to look at to make a prediction for the next day\n",
        "D = input_data.shape[1]\n",
        "N = len(input_data) - T # (e.g. if T=10 and you have 11 data points then you'd only have 1 sample)"
      ],
      "execution_count": 40,
      "outputs": []
    },
    {
      "cell_type": "code",
      "metadata": {
        "id": "9mVOWnsmSWFO",
        "colab_type": "code",
        "colab": {
          "base_uri": "https://localhost:8080/",
          "height": 34
        },
        "outputId": "d20c480f-6f5d-45af-dc0a-4af7ae1e65cd"
      },
      "source": [
        "input_data.shape"
      ],
      "execution_count": 31,
      "outputs": [
        {
          "output_type": "execute_result",
          "data": {
            "text/plain": [
              "(1259, 5)"
            ]
          },
          "metadata": {
            "tags": []
          },
          "execution_count": 31
        }
      ]
    },
    {
      "cell_type": "code",
      "metadata": {
        "id": "PDVaE_ZKWfIk",
        "colab_type": "code",
        "colab": {}
      },
      "source": [
        "N = len(input_data) - T"
      ],
      "execution_count": 32,
      "outputs": []
    },
    {
      "cell_type": "code",
      "metadata": {
        "id": "ibUtlLHqWhTf",
        "colab_type": "code",
        "colab": {
          "base_uri": "https://localhost:8080/",
          "height": 34
        },
        "outputId": "76d4f34d-3323-434c-ed6a-774ef60012fe"
      },
      "source": [
        "N"
      ],
      "execution_count": 33,
      "outputs": [
        {
          "output_type": "execute_result",
          "data": {
            "text/plain": [
              "1249"
            ]
          },
          "metadata": {
            "tags": []
          },
          "execution_count": 33
        }
      ]
    },
    {
      "cell_type": "code",
      "metadata": {
        "id": "VjBzrD0RWqC-",
        "colab_type": "code",
        "colab": {}
      },
      "source": [
        "# normalize the inputs\n",
        "Ntrain = len(input_data) * 2 // 3\n",
        "scaler = StandardScaler()\n",
        "scaler.fit(input_data[:Ntrain + T - 1])\n",
        "input_data = scaler.transform(input_data)"
      ],
      "execution_count": 39,
      "outputs": []
    },
    {
      "cell_type": "code",
      "metadata": {
        "id": "PwRY0iU7W4DD",
        "colab_type": "code",
        "colab": {
          "base_uri": "https://localhost:8080/",
          "height": 34
        },
        "outputId": "f71aa1f6-58a7-4378-9032-35f5a2e60804"
      },
      "source": [
        "input_data.shape\n",
        "Ntrain"
      ],
      "execution_count": 36,
      "outputs": [
        {
          "output_type": "execute_result",
          "data": {
            "text/plain": [
              "839"
            ]
          },
          "metadata": {
            "tags": []
          },
          "execution_count": 36
        }
      ]
    },
    {
      "cell_type": "code",
      "metadata": {
        "id": "jPZ5roUXW8c6",
        "colab_type": "code",
        "colab": {}
      },
      "source": [
        "# Setup X_train and Y_train\n",
        "X_train = np.zeros((Ntrain, T, D))\n",
        "Y_train = np.zeros(Ntrain)\n",
        "\n",
        "for t in range(Ntrain):\n",
        "  X_train[t, :, :] = input_data[t:t+T]\n",
        "  Y_train[t] = (targets[t+T] > 0)"
      ],
      "execution_count": 41,
      "outputs": []
    },
    {
      "cell_type": "code",
      "metadata": {
        "id": "MujupXnYZ8Ay",
        "colab_type": "code",
        "colab": {}
      },
      "source": [
        "# Setup X_test and Y_test\n",
        "X_test = np.zeros((N - Ntrain, T, D))\n",
        "Y_test = np.zeros(N - Ntrain)\n",
        "\n",
        "for u in range(N - Ntrain):\n",
        "  # u counts from 0...(N - Ntrain)\n",
        "  # t counts from Ntrain...N\n",
        "  t = u + Ntrain\n",
        "  X_test[u, :, :] = input_data[t:t+T]\n",
        "  Y_test[u] = (targets[t+T] > 0)"
      ],
      "execution_count": 42,
      "outputs": []
    },
    {
      "cell_type": "code",
      "metadata": {
        "id": "SDuNOyREZ_nG",
        "colab_type": "code",
        "colab": {}
      },
      "source": [
        "# make the RNN\n",
        "i = Input(shape=(T, D))\n",
        "x = LSTM(50)(i)\n",
        "x = Dense(1, activation='sigmoid')(x)\n",
        "model = Model(i, x)\n",
        "model.compile(\n",
        "  loss='binary_crossentropy',\n",
        "  optimizer=Adam(lr=0.001),\n",
        "  metrics=['accuracy'],\n",
        ")"
      ],
      "execution_count": 44,
      "outputs": []
    },
    {
      "cell_type": "code",
      "metadata": {
        "id": "xKhmprd5Ytt2",
        "colab_type": "code",
        "colab": {
          "base_uri": "https://localhost:8080/",
          "height": 1000
        },
        "outputId": "a3ae2918-892c-40f3-80e7-025c340c2353"
      },
      "source": [
        "# train the RNN\n",
        "r = model.fit(\n",
        "  X_train, Y_train,\n",
        "  batch_size=32,\n",
        "  epochs=300,\n",
        "  validation_data=(X_test, Y_test),\n",
        ")"
      ],
      "execution_count": 45,
      "outputs": [
        {
          "output_type": "stream",
          "text": [
            "Epoch 1/300\n",
            "27/27 [==============================] - 1s 22ms/step - loss: 0.6966 - accuracy: 0.4899 - val_loss: 0.6952 - val_accuracy: 0.4805\n",
            "Epoch 2/300\n",
            "27/27 [==============================] - 0s 6ms/step - loss: 0.6934 - accuracy: 0.5030 - val_loss: 0.6938 - val_accuracy: 0.5024\n",
            "Epoch 3/300\n",
            "27/27 [==============================] - 0s 7ms/step - loss: 0.6934 - accuracy: 0.5268 - val_loss: 0.6983 - val_accuracy: 0.4854\n",
            "Epoch 4/300\n",
            "27/27 [==============================] - 0s 7ms/step - loss: 0.6920 - accuracy: 0.5280 - val_loss: 0.6980 - val_accuracy: 0.4854\n",
            "Epoch 5/300\n",
            "27/27 [==============================] - 0s 7ms/step - loss: 0.6923 - accuracy: 0.5185 - val_loss: 0.6959 - val_accuracy: 0.4854\n",
            "Epoch 6/300\n",
            "27/27 [==============================] - 0s 6ms/step - loss: 0.6931 - accuracy: 0.5089 - val_loss: 0.6937 - val_accuracy: 0.5000\n",
            "Epoch 7/300\n",
            "27/27 [==============================] - 0s 7ms/step - loss: 0.6931 - accuracy: 0.5018 - val_loss: 0.6941 - val_accuracy: 0.4927\n",
            "Epoch 8/300\n",
            "27/27 [==============================] - 0s 7ms/step - loss: 0.6893 - accuracy: 0.5387 - val_loss: 0.6947 - val_accuracy: 0.4927\n",
            "Epoch 9/300\n",
            "27/27 [==============================] - 0s 8ms/step - loss: 0.6907 - accuracy: 0.5256 - val_loss: 0.6934 - val_accuracy: 0.4927\n",
            "Epoch 10/300\n",
            "27/27 [==============================] - 0s 7ms/step - loss: 0.6895 - accuracy: 0.5244 - val_loss: 0.6975 - val_accuracy: 0.4927\n",
            "Epoch 11/300\n",
            "27/27 [==============================] - 0s 7ms/step - loss: 0.6887 - accuracy: 0.5304 - val_loss: 0.6929 - val_accuracy: 0.4902\n",
            "Epoch 12/300\n",
            "27/27 [==============================] - 0s 7ms/step - loss: 0.6881 - accuracy: 0.5387 - val_loss: 0.6955 - val_accuracy: 0.5024\n",
            "Epoch 13/300\n",
            "27/27 [==============================] - 0s 7ms/step - loss: 0.6893 - accuracy: 0.5292 - val_loss: 0.6962 - val_accuracy: 0.4976\n",
            "Epoch 14/300\n",
            "27/27 [==============================] - 0s 7ms/step - loss: 0.6887 - accuracy: 0.5423 - val_loss: 0.6895 - val_accuracy: 0.5439\n",
            "Epoch 15/300\n",
            "27/27 [==============================] - 0s 7ms/step - loss: 0.6876 - accuracy: 0.5375 - val_loss: 0.6941 - val_accuracy: 0.4854\n",
            "Epoch 16/300\n",
            "27/27 [==============================] - 0s 7ms/step - loss: 0.6870 - accuracy: 0.5435 - val_loss: 0.6902 - val_accuracy: 0.5220\n",
            "Epoch 17/300\n",
            "27/27 [==============================] - 0s 7ms/step - loss: 0.6882 - accuracy: 0.5399 - val_loss: 0.7008 - val_accuracy: 0.4927\n",
            "Epoch 18/300\n",
            "27/27 [==============================] - 0s 7ms/step - loss: 0.6882 - accuracy: 0.5304 - val_loss: 0.6925 - val_accuracy: 0.5049\n",
            "Epoch 19/300\n",
            "27/27 [==============================] - 0s 7ms/step - loss: 0.6869 - accuracy: 0.5435 - val_loss: 0.6928 - val_accuracy: 0.5000\n",
            "Epoch 20/300\n",
            "27/27 [==============================] - 0s 7ms/step - loss: 0.6865 - accuracy: 0.5435 - val_loss: 0.6927 - val_accuracy: 0.5171\n",
            "Epoch 21/300\n",
            "27/27 [==============================] - 0s 7ms/step - loss: 0.6865 - accuracy: 0.5399 - val_loss: 0.6906 - val_accuracy: 0.5317\n",
            "Epoch 22/300\n",
            "27/27 [==============================] - 0s 7ms/step - loss: 0.6893 - accuracy: 0.5328 - val_loss: 0.6935 - val_accuracy: 0.4976\n",
            "Epoch 23/300\n",
            "27/27 [==============================] - 0s 7ms/step - loss: 0.6872 - accuracy: 0.5495 - val_loss: 0.6934 - val_accuracy: 0.5049\n",
            "Epoch 24/300\n",
            "27/27 [==============================] - 0s 7ms/step - loss: 0.6858 - accuracy: 0.5495 - val_loss: 0.6922 - val_accuracy: 0.5122\n",
            "Epoch 25/300\n",
            "27/27 [==============================] - 0s 7ms/step - loss: 0.6868 - accuracy: 0.5518 - val_loss: 0.6970 - val_accuracy: 0.4902\n",
            "Epoch 26/300\n",
            "27/27 [==============================] - 0s 7ms/step - loss: 0.6849 - accuracy: 0.5566 - val_loss: 0.6914 - val_accuracy: 0.5268\n",
            "Epoch 27/300\n",
            "27/27 [==============================] - 0s 7ms/step - loss: 0.6844 - accuracy: 0.5578 - val_loss: 0.6931 - val_accuracy: 0.5244\n",
            "Epoch 28/300\n",
            "27/27 [==============================] - 0s 7ms/step - loss: 0.6839 - accuracy: 0.5662 - val_loss: 0.6914 - val_accuracy: 0.5293\n",
            "Epoch 29/300\n",
            "27/27 [==============================] - 0s 7ms/step - loss: 0.6842 - accuracy: 0.5697 - val_loss: 0.6910 - val_accuracy: 0.5390\n",
            "Epoch 30/300\n",
            "27/27 [==============================] - 0s 7ms/step - loss: 0.6843 - accuracy: 0.5697 - val_loss: 0.6927 - val_accuracy: 0.5293\n",
            "Epoch 31/300\n",
            "27/27 [==============================] - 0s 7ms/step - loss: 0.6829 - accuracy: 0.5721 - val_loss: 0.6937 - val_accuracy: 0.5220\n",
            "Epoch 32/300\n",
            "27/27 [==============================] - 0s 8ms/step - loss: 0.6837 - accuracy: 0.5518 - val_loss: 0.6938 - val_accuracy: 0.5244\n",
            "Epoch 33/300\n",
            "27/27 [==============================] - 0s 7ms/step - loss: 0.6831 - accuracy: 0.5721 - val_loss: 0.6959 - val_accuracy: 0.5195\n",
            "Epoch 34/300\n",
            "27/27 [==============================] - 0s 8ms/step - loss: 0.6827 - accuracy: 0.5483 - val_loss: 0.6940 - val_accuracy: 0.5317\n",
            "Epoch 35/300\n",
            "27/27 [==============================] - 0s 7ms/step - loss: 0.6828 - accuracy: 0.5757 - val_loss: 0.6977 - val_accuracy: 0.4854\n",
            "Epoch 36/300\n",
            "27/27 [==============================] - 0s 7ms/step - loss: 0.6826 - accuracy: 0.5697 - val_loss: 0.6969 - val_accuracy: 0.5122\n",
            "Epoch 37/300\n",
            "27/27 [==============================] - 0s 7ms/step - loss: 0.6810 - accuracy: 0.5685 - val_loss: 0.6961 - val_accuracy: 0.5146\n",
            "Epoch 38/300\n",
            "27/27 [==============================] - 0s 7ms/step - loss: 0.6799 - accuracy: 0.5757 - val_loss: 0.6952 - val_accuracy: 0.5098\n",
            "Epoch 39/300\n",
            "27/27 [==============================] - 0s 8ms/step - loss: 0.6819 - accuracy: 0.5411 - val_loss: 0.6953 - val_accuracy: 0.5146\n",
            "Epoch 40/300\n",
            "27/27 [==============================] - 0s 8ms/step - loss: 0.6799 - accuracy: 0.5781 - val_loss: 0.7011 - val_accuracy: 0.4951\n",
            "Epoch 41/300\n",
            "27/27 [==============================] - 0s 8ms/step - loss: 0.6803 - accuracy: 0.5685 - val_loss: 0.6966 - val_accuracy: 0.5171\n",
            "Epoch 42/300\n",
            "27/27 [==============================] - 0s 8ms/step - loss: 0.6815 - accuracy: 0.5626 - val_loss: 0.6964 - val_accuracy: 0.5220\n",
            "Epoch 43/300\n",
            "27/27 [==============================] - 0s 8ms/step - loss: 0.6788 - accuracy: 0.5638 - val_loss: 0.6941 - val_accuracy: 0.5390\n",
            "Epoch 44/300\n",
            "27/27 [==============================] - 0s 8ms/step - loss: 0.6778 - accuracy: 0.5673 - val_loss: 0.6967 - val_accuracy: 0.5098\n",
            "Epoch 45/300\n",
            "27/27 [==============================] - 0s 7ms/step - loss: 0.6791 - accuracy: 0.5542 - val_loss: 0.6954 - val_accuracy: 0.5195\n",
            "Epoch 46/300\n",
            "27/27 [==============================] - 0s 8ms/step - loss: 0.6770 - accuracy: 0.5805 - val_loss: 0.7019 - val_accuracy: 0.4902\n",
            "Epoch 47/300\n",
            "27/27 [==============================] - 0s 7ms/step - loss: 0.6774 - accuracy: 0.5805 - val_loss: 0.6955 - val_accuracy: 0.5098\n",
            "Epoch 48/300\n",
            "27/27 [==============================] - 0s 8ms/step - loss: 0.6768 - accuracy: 0.5697 - val_loss: 0.6972 - val_accuracy: 0.5122\n",
            "Epoch 49/300\n",
            "27/27 [==============================] - 0s 8ms/step - loss: 0.6767 - accuracy: 0.5733 - val_loss: 0.7015 - val_accuracy: 0.4951\n",
            "Epoch 50/300\n",
            "27/27 [==============================] - 0s 7ms/step - loss: 0.6771 - accuracy: 0.5673 - val_loss: 0.6972 - val_accuracy: 0.5171\n",
            "Epoch 51/300\n",
            "27/27 [==============================] - 0s 8ms/step - loss: 0.6740 - accuracy: 0.5709 - val_loss: 0.6961 - val_accuracy: 0.5073\n",
            "Epoch 52/300\n",
            "27/27 [==============================] - 0s 8ms/step - loss: 0.6738 - accuracy: 0.5709 - val_loss: 0.6981 - val_accuracy: 0.5171\n",
            "Epoch 53/300\n",
            "27/27 [==============================] - 0s 7ms/step - loss: 0.6743 - accuracy: 0.5590 - val_loss: 0.7029 - val_accuracy: 0.4976\n",
            "Epoch 54/300\n",
            "27/27 [==============================] - 0s 7ms/step - loss: 0.6727 - accuracy: 0.5697 - val_loss: 0.6966 - val_accuracy: 0.5293\n",
            "Epoch 55/300\n",
            "27/27 [==============================] - 0s 8ms/step - loss: 0.6758 - accuracy: 0.5614 - val_loss: 0.7049 - val_accuracy: 0.4951\n",
            "Epoch 56/300\n",
            "27/27 [==============================] - 0s 7ms/step - loss: 0.6717 - accuracy: 0.5745 - val_loss: 0.6992 - val_accuracy: 0.4976\n",
            "Epoch 57/300\n",
            "27/27 [==============================] - 0s 8ms/step - loss: 0.6713 - accuracy: 0.5697 - val_loss: 0.7034 - val_accuracy: 0.4805\n",
            "Epoch 58/300\n",
            "27/27 [==============================] - 0s 8ms/step - loss: 0.6689 - accuracy: 0.5805 - val_loss: 0.7015 - val_accuracy: 0.5146\n",
            "Epoch 59/300\n",
            "27/27 [==============================] - 0s 7ms/step - loss: 0.6689 - accuracy: 0.5685 - val_loss: 0.7025 - val_accuracy: 0.4951\n",
            "Epoch 60/300\n",
            "27/27 [==============================] - 0s 7ms/step - loss: 0.6701 - accuracy: 0.5757 - val_loss: 0.7021 - val_accuracy: 0.5024\n",
            "Epoch 61/300\n",
            "27/27 [==============================] - 0s 7ms/step - loss: 0.6690 - accuracy: 0.5685 - val_loss: 0.7069 - val_accuracy: 0.4854\n",
            "Epoch 62/300\n",
            "27/27 [==============================] - 0s 7ms/step - loss: 0.6670 - accuracy: 0.5781 - val_loss: 0.7039 - val_accuracy: 0.4878\n",
            "Epoch 63/300\n",
            "27/27 [==============================] - 0s 8ms/step - loss: 0.6651 - accuracy: 0.5852 - val_loss: 0.7033 - val_accuracy: 0.5146\n",
            "Epoch 64/300\n",
            "27/27 [==============================] - 0s 8ms/step - loss: 0.6628 - accuracy: 0.5876 - val_loss: 0.7050 - val_accuracy: 0.5024\n",
            "Epoch 65/300\n",
            "27/27 [==============================] - 0s 7ms/step - loss: 0.6634 - accuracy: 0.5793 - val_loss: 0.7036 - val_accuracy: 0.5098\n",
            "Epoch 66/300\n",
            "27/27 [==============================] - 0s 8ms/step - loss: 0.6641 - accuracy: 0.5733 - val_loss: 0.7021 - val_accuracy: 0.5073\n",
            "Epoch 67/300\n",
            "27/27 [==============================] - 0s 7ms/step - loss: 0.6629 - accuracy: 0.5828 - val_loss: 0.7066 - val_accuracy: 0.5024\n",
            "Epoch 68/300\n",
            "27/27 [==============================] - 0s 7ms/step - loss: 0.6630 - accuracy: 0.5840 - val_loss: 0.7053 - val_accuracy: 0.5122\n",
            "Epoch 69/300\n",
            "27/27 [==============================] - 0s 8ms/step - loss: 0.6595 - accuracy: 0.5900 - val_loss: 0.7070 - val_accuracy: 0.4976\n",
            "Epoch 70/300\n",
            "27/27 [==============================] - 0s 7ms/step - loss: 0.6594 - accuracy: 0.5948 - val_loss: 0.7062 - val_accuracy: 0.4951\n",
            "Epoch 71/300\n",
            "27/27 [==============================] - 0s 7ms/step - loss: 0.6569 - accuracy: 0.5912 - val_loss: 0.7084 - val_accuracy: 0.4780\n",
            "Epoch 72/300\n",
            "27/27 [==============================] - 0s 8ms/step - loss: 0.6588 - accuracy: 0.5936 - val_loss: 0.7107 - val_accuracy: 0.5073\n",
            "Epoch 73/300\n",
            "27/27 [==============================] - 0s 7ms/step - loss: 0.6542 - accuracy: 0.5959 - val_loss: 0.7199 - val_accuracy: 0.5000\n",
            "Epoch 74/300\n",
            "27/27 [==============================] - 0s 8ms/step - loss: 0.6538 - accuracy: 0.5995 - val_loss: 0.7057 - val_accuracy: 0.4951\n",
            "Epoch 75/300\n",
            "27/27 [==============================] - 0s 7ms/step - loss: 0.6547 - accuracy: 0.5816 - val_loss: 0.7265 - val_accuracy: 0.5024\n",
            "Epoch 76/300\n",
            "27/27 [==============================] - 0s 8ms/step - loss: 0.6550 - accuracy: 0.6043 - val_loss: 0.7099 - val_accuracy: 0.4854\n",
            "Epoch 77/300\n",
            "27/27 [==============================] - 0s 8ms/step - loss: 0.6551 - accuracy: 0.5971 - val_loss: 0.7157 - val_accuracy: 0.4976\n",
            "Epoch 78/300\n",
            "27/27 [==============================] - 0s 7ms/step - loss: 0.6500 - accuracy: 0.6043 - val_loss: 0.7195 - val_accuracy: 0.4902\n",
            "Epoch 79/300\n",
            "27/27 [==============================] - 0s 8ms/step - loss: 0.6517 - accuracy: 0.6186 - val_loss: 0.7155 - val_accuracy: 0.4829\n",
            "Epoch 80/300\n",
            "27/27 [==============================] - 0s 8ms/step - loss: 0.6477 - accuracy: 0.6103 - val_loss: 0.7171 - val_accuracy: 0.4902\n",
            "Epoch 81/300\n",
            "27/27 [==============================] - 0s 7ms/step - loss: 0.6471 - accuracy: 0.6031 - val_loss: 0.7159 - val_accuracy: 0.4902\n",
            "Epoch 82/300\n",
            "27/27 [==============================] - 0s 7ms/step - loss: 0.6463 - accuracy: 0.6019 - val_loss: 0.7194 - val_accuracy: 0.4756\n",
            "Epoch 83/300\n",
            "27/27 [==============================] - 0s 8ms/step - loss: 0.6433 - accuracy: 0.6079 - val_loss: 0.7263 - val_accuracy: 0.4878\n",
            "Epoch 84/300\n",
            "27/27 [==============================] - 0s 8ms/step - loss: 0.6422 - accuracy: 0.6091 - val_loss: 0.7307 - val_accuracy: 0.4780\n",
            "Epoch 85/300\n",
            "27/27 [==============================] - 0s 8ms/step - loss: 0.6377 - accuracy: 0.6210 - val_loss: 0.7276 - val_accuracy: 0.4780\n",
            "Epoch 86/300\n",
            "27/27 [==============================] - 0s 7ms/step - loss: 0.6382 - accuracy: 0.6174 - val_loss: 0.7143 - val_accuracy: 0.4878\n",
            "Epoch 87/300\n",
            "27/27 [==============================] - 0s 7ms/step - loss: 0.6408 - accuracy: 0.6186 - val_loss: 0.7331 - val_accuracy: 0.4805\n",
            "Epoch 88/300\n",
            "27/27 [==============================] - 0s 8ms/step - loss: 0.6353 - accuracy: 0.6305 - val_loss: 0.7286 - val_accuracy: 0.5000\n",
            "Epoch 89/300\n",
            "27/27 [==============================] - 0s 7ms/step - loss: 0.6321 - accuracy: 0.6293 - val_loss: 0.7224 - val_accuracy: 0.4829\n",
            "Epoch 90/300\n",
            "27/27 [==============================] - 0s 7ms/step - loss: 0.6333 - accuracy: 0.6377 - val_loss: 0.7298 - val_accuracy: 0.4805\n",
            "Epoch 91/300\n",
            "27/27 [==============================] - 0s 7ms/step - loss: 0.6280 - accuracy: 0.6353 - val_loss: 0.7279 - val_accuracy: 0.4780\n",
            "Epoch 92/300\n",
            "27/27 [==============================] - 0s 7ms/step - loss: 0.6243 - accuracy: 0.6317 - val_loss: 0.7269 - val_accuracy: 0.4707\n",
            "Epoch 93/300\n",
            "27/27 [==============================] - 0s 7ms/step - loss: 0.6260 - accuracy: 0.6377 - val_loss: 0.7362 - val_accuracy: 0.4659\n",
            "Epoch 94/300\n",
            "27/27 [==============================] - 0s 7ms/step - loss: 0.6227 - accuracy: 0.6389 - val_loss: 0.7390 - val_accuracy: 0.4537\n",
            "Epoch 95/300\n",
            "27/27 [==============================] - 0s 7ms/step - loss: 0.6186 - accuracy: 0.6508 - val_loss: 0.7444 - val_accuracy: 0.4610\n",
            "Epoch 96/300\n",
            "27/27 [==============================] - 0s 7ms/step - loss: 0.6197 - accuracy: 0.6305 - val_loss: 0.7524 - val_accuracy: 0.4512\n",
            "Epoch 97/300\n",
            "27/27 [==============================] - 0s 7ms/step - loss: 0.6179 - accuracy: 0.6448 - val_loss: 0.7402 - val_accuracy: 0.4610\n",
            "Epoch 98/300\n",
            "27/27 [==============================] - 0s 7ms/step - loss: 0.6120 - accuracy: 0.6424 - val_loss: 0.7477 - val_accuracy: 0.4732\n",
            "Epoch 99/300\n",
            "27/27 [==============================] - 0s 7ms/step - loss: 0.6091 - accuracy: 0.6567 - val_loss: 0.7582 - val_accuracy: 0.4707\n",
            "Epoch 100/300\n",
            "27/27 [==============================] - 0s 7ms/step - loss: 0.6084 - accuracy: 0.6520 - val_loss: 0.7456 - val_accuracy: 0.4756\n",
            "Epoch 101/300\n",
            "27/27 [==============================] - 0s 7ms/step - loss: 0.6073 - accuracy: 0.6579 - val_loss: 0.7516 - val_accuracy: 0.4683\n",
            "Epoch 102/300\n",
            "27/27 [==============================] - 0s 7ms/step - loss: 0.6056 - accuracy: 0.6579 - val_loss: 0.7549 - val_accuracy: 0.4683\n",
            "Epoch 103/300\n",
            "27/27 [==============================] - 0s 8ms/step - loss: 0.6035 - accuracy: 0.6532 - val_loss: 0.7594 - val_accuracy: 0.4585\n",
            "Epoch 104/300\n",
            "27/27 [==============================] - 0s 8ms/step - loss: 0.5978 - accuracy: 0.6627 - val_loss: 0.7508 - val_accuracy: 0.4707\n",
            "Epoch 105/300\n",
            "27/27 [==============================] - 0s 7ms/step - loss: 0.5983 - accuracy: 0.6758 - val_loss: 0.7588 - val_accuracy: 0.4585\n",
            "Epoch 106/300\n",
            "27/27 [==============================] - 0s 8ms/step - loss: 0.5968 - accuracy: 0.6460 - val_loss: 0.7578 - val_accuracy: 0.4659\n",
            "Epoch 107/300\n",
            "27/27 [==============================] - 0s 7ms/step - loss: 0.5964 - accuracy: 0.6555 - val_loss: 0.7497 - val_accuracy: 0.4683\n",
            "Epoch 108/300\n",
            "27/27 [==============================] - 0s 8ms/step - loss: 0.5878 - accuracy: 0.6734 - val_loss: 0.7631 - val_accuracy: 0.4537\n",
            "Epoch 109/300\n",
            "27/27 [==============================] - 0s 7ms/step - loss: 0.5881 - accuracy: 0.6687 - val_loss: 0.7515 - val_accuracy: 0.4683\n",
            "Epoch 110/300\n",
            "27/27 [==============================] - 0s 8ms/step - loss: 0.5864 - accuracy: 0.6663 - val_loss: 0.7661 - val_accuracy: 0.4488\n",
            "Epoch 111/300\n",
            "27/27 [==============================] - 0s 7ms/step - loss: 0.5808 - accuracy: 0.6734 - val_loss: 0.7676 - val_accuracy: 0.4659\n",
            "Epoch 112/300\n",
            "27/27 [==============================] - 0s 7ms/step - loss: 0.5828 - accuracy: 0.6698 - val_loss: 0.7632 - val_accuracy: 0.4512\n",
            "Epoch 113/300\n",
            "27/27 [==============================] - 0s 7ms/step - loss: 0.5776 - accuracy: 0.6758 - val_loss: 0.7706 - val_accuracy: 0.4561\n",
            "Epoch 114/300\n",
            "27/27 [==============================] - 0s 7ms/step - loss: 0.5703 - accuracy: 0.6806 - val_loss: 0.7619 - val_accuracy: 0.4610\n",
            "Epoch 115/300\n",
            "27/27 [==============================] - 0s 8ms/step - loss: 0.5712 - accuracy: 0.6830 - val_loss: 0.7769 - val_accuracy: 0.4634\n",
            "Epoch 116/300\n",
            "27/27 [==============================] - 0s 7ms/step - loss: 0.5660 - accuracy: 0.6925 - val_loss: 0.7730 - val_accuracy: 0.4634\n",
            "Epoch 117/300\n",
            "27/27 [==============================] - 0s 8ms/step - loss: 0.5639 - accuracy: 0.6877 - val_loss: 0.7759 - val_accuracy: 0.4561\n",
            "Epoch 118/300\n",
            "27/27 [==============================] - 0s 7ms/step - loss: 0.5638 - accuracy: 0.6794 - val_loss: 0.7768 - val_accuracy: 0.4610\n",
            "Epoch 119/300\n",
            "27/27 [==============================] - 0s 7ms/step - loss: 0.5661 - accuracy: 0.6818 - val_loss: 0.7866 - val_accuracy: 0.4585\n",
            "Epoch 120/300\n",
            "27/27 [==============================] - 0s 7ms/step - loss: 0.5584 - accuracy: 0.6913 - val_loss: 0.7673 - val_accuracy: 0.4732\n",
            "Epoch 121/300\n",
            "27/27 [==============================] - 0s 8ms/step - loss: 0.5608 - accuracy: 0.6996 - val_loss: 0.7774 - val_accuracy: 0.4585\n",
            "Epoch 122/300\n",
            "27/27 [==============================] - 0s 8ms/step - loss: 0.5597 - accuracy: 0.6973 - val_loss: 0.7765 - val_accuracy: 0.4634\n",
            "Epoch 123/300\n",
            "27/27 [==============================] - 0s 7ms/step - loss: 0.5549 - accuracy: 0.7020 - val_loss: 0.7932 - val_accuracy: 0.4756\n",
            "Epoch 124/300\n",
            "27/27 [==============================] - 0s 7ms/step - loss: 0.5493 - accuracy: 0.6913 - val_loss: 0.7757 - val_accuracy: 0.4707\n",
            "Epoch 125/300\n",
            "27/27 [==============================] - 0s 7ms/step - loss: 0.5499 - accuracy: 0.7068 - val_loss: 0.7801 - val_accuracy: 0.4829\n",
            "Epoch 126/300\n",
            "27/27 [==============================] - 0s 8ms/step - loss: 0.5468 - accuracy: 0.6973 - val_loss: 0.7751 - val_accuracy: 0.4732\n",
            "Epoch 127/300\n",
            "27/27 [==============================] - 0s 8ms/step - loss: 0.5535 - accuracy: 0.7080 - val_loss: 0.7848 - val_accuracy: 0.4756\n",
            "Epoch 128/300\n",
            "27/27 [==============================] - 0s 7ms/step - loss: 0.5519 - accuracy: 0.6985 - val_loss: 0.7928 - val_accuracy: 0.4829\n",
            "Epoch 129/300\n",
            "27/27 [==============================] - 0s 7ms/step - loss: 0.5375 - accuracy: 0.7163 - val_loss: 0.7916 - val_accuracy: 0.4756\n",
            "Epoch 130/300\n",
            "27/27 [==============================] - 0s 7ms/step - loss: 0.5431 - accuracy: 0.7116 - val_loss: 0.7889 - val_accuracy: 0.4732\n",
            "Epoch 131/300\n",
            "27/27 [==============================] - 0s 7ms/step - loss: 0.5357 - accuracy: 0.7068 - val_loss: 0.7901 - val_accuracy: 0.4756\n",
            "Epoch 132/300\n",
            "27/27 [==============================] - 0s 8ms/step - loss: 0.5345 - accuracy: 0.7187 - val_loss: 0.7820 - val_accuracy: 0.4780\n",
            "Epoch 133/300\n",
            "27/27 [==============================] - 0s 7ms/step - loss: 0.5266 - accuracy: 0.7294 - val_loss: 0.7932 - val_accuracy: 0.4634\n",
            "Epoch 134/300\n",
            "27/27 [==============================] - 0s 7ms/step - loss: 0.5290 - accuracy: 0.7068 - val_loss: 0.7982 - val_accuracy: 0.4829\n",
            "Epoch 135/300\n",
            "27/27 [==============================] - 0s 7ms/step - loss: 0.5312 - accuracy: 0.7247 - val_loss: 0.7979 - val_accuracy: 0.4805\n",
            "Epoch 136/300\n",
            "27/27 [==============================] - 0s 7ms/step - loss: 0.5202 - accuracy: 0.7354 - val_loss: 0.7920 - val_accuracy: 0.4951\n",
            "Epoch 137/300\n",
            "27/27 [==============================] - 0s 7ms/step - loss: 0.5151 - accuracy: 0.7259 - val_loss: 0.7889 - val_accuracy: 0.4951\n",
            "Epoch 138/300\n",
            "27/27 [==============================] - 0s 7ms/step - loss: 0.5158 - accuracy: 0.7330 - val_loss: 0.8060 - val_accuracy: 0.4878\n",
            "Epoch 139/300\n",
            "27/27 [==============================] - 0s 7ms/step - loss: 0.5130 - accuracy: 0.7354 - val_loss: 0.7952 - val_accuracy: 0.4902\n",
            "Epoch 140/300\n",
            "27/27 [==============================] - 0s 8ms/step - loss: 0.5136 - accuracy: 0.7318 - val_loss: 0.7936 - val_accuracy: 0.4805\n",
            "Epoch 141/300\n",
            "27/27 [==============================] - 0s 7ms/step - loss: 0.5149 - accuracy: 0.7294 - val_loss: 0.7898 - val_accuracy: 0.4854\n",
            "Epoch 142/300\n",
            "27/27 [==============================] - 0s 7ms/step - loss: 0.5104 - accuracy: 0.7187 - val_loss: 0.8005 - val_accuracy: 0.5024\n",
            "Epoch 143/300\n",
            "27/27 [==============================] - 0s 7ms/step - loss: 0.5008 - accuracy: 0.7390 - val_loss: 0.8035 - val_accuracy: 0.4927\n",
            "Epoch 144/300\n",
            "27/27 [==============================] - 0s 7ms/step - loss: 0.5051 - accuracy: 0.7390 - val_loss: 0.8017 - val_accuracy: 0.4854\n",
            "Epoch 145/300\n",
            "27/27 [==============================] - 0s 7ms/step - loss: 0.4961 - accuracy: 0.7533 - val_loss: 0.7994 - val_accuracy: 0.5049\n",
            "Epoch 146/300\n",
            "27/27 [==============================] - 0s 7ms/step - loss: 0.4970 - accuracy: 0.7449 - val_loss: 0.8258 - val_accuracy: 0.4780\n",
            "Epoch 147/300\n",
            "27/27 [==============================] - 0s 8ms/step - loss: 0.5003 - accuracy: 0.7497 - val_loss: 0.8056 - val_accuracy: 0.5000\n",
            "Epoch 148/300\n",
            "27/27 [==============================] - 0s 7ms/step - loss: 0.4959 - accuracy: 0.7378 - val_loss: 0.7952 - val_accuracy: 0.5049\n",
            "Epoch 149/300\n",
            "27/27 [==============================] - 0s 8ms/step - loss: 0.4955 - accuracy: 0.7366 - val_loss: 0.8044 - val_accuracy: 0.4976\n",
            "Epoch 150/300\n",
            "27/27 [==============================] - 0s 7ms/step - loss: 0.4868 - accuracy: 0.7545 - val_loss: 0.8049 - val_accuracy: 0.4976\n",
            "Epoch 151/300\n",
            "27/27 [==============================] - 0s 7ms/step - loss: 0.4897 - accuracy: 0.7545 - val_loss: 0.8112 - val_accuracy: 0.5024\n",
            "Epoch 152/300\n",
            "27/27 [==============================] - 0s 7ms/step - loss: 0.4804 - accuracy: 0.7509 - val_loss: 0.8156 - val_accuracy: 0.4976\n",
            "Epoch 153/300\n",
            "27/27 [==============================] - 0s 7ms/step - loss: 0.4725 - accuracy: 0.7628 - val_loss: 0.8106 - val_accuracy: 0.5024\n",
            "Epoch 154/300\n",
            "27/27 [==============================] - 0s 7ms/step - loss: 0.4761 - accuracy: 0.7533 - val_loss: 0.8361 - val_accuracy: 0.4951\n",
            "Epoch 155/300\n",
            "27/27 [==============================] - 0s 7ms/step - loss: 0.4832 - accuracy: 0.7437 - val_loss: 0.8125 - val_accuracy: 0.5098\n",
            "Epoch 156/300\n",
            "27/27 [==============================] - 0s 8ms/step - loss: 0.4802 - accuracy: 0.7569 - val_loss: 0.8260 - val_accuracy: 0.5073\n",
            "Epoch 157/300\n",
            "27/27 [==============================] - 0s 7ms/step - loss: 0.4706 - accuracy: 0.7592 - val_loss: 0.8197 - val_accuracy: 0.4878\n",
            "Epoch 158/300\n",
            "27/27 [==============================] - 0s 7ms/step - loss: 0.4636 - accuracy: 0.7616 - val_loss: 0.8208 - val_accuracy: 0.4951\n",
            "Epoch 159/300\n",
            "27/27 [==============================] - 0s 7ms/step - loss: 0.4625 - accuracy: 0.7723 - val_loss: 0.8310 - val_accuracy: 0.5073\n",
            "Epoch 160/300\n",
            "27/27 [==============================] - 0s 7ms/step - loss: 0.4592 - accuracy: 0.7712 - val_loss: 0.8263 - val_accuracy: 0.4976\n",
            "Epoch 161/300\n",
            "27/27 [==============================] - 0s 8ms/step - loss: 0.4575 - accuracy: 0.7652 - val_loss: 0.8291 - val_accuracy: 0.4951\n",
            "Epoch 162/300\n",
            "27/27 [==============================] - 0s 7ms/step - loss: 0.4700 - accuracy: 0.7557 - val_loss: 0.8371 - val_accuracy: 0.4927\n",
            "Epoch 163/300\n",
            "27/27 [==============================] - 0s 7ms/step - loss: 0.4611 - accuracy: 0.7652 - val_loss: 0.8460 - val_accuracy: 0.5000\n",
            "Epoch 164/300\n",
            "27/27 [==============================] - 0s 7ms/step - loss: 0.4538 - accuracy: 0.7747 - val_loss: 0.8306 - val_accuracy: 0.5073\n",
            "Epoch 165/300\n",
            "27/27 [==============================] - 0s 8ms/step - loss: 0.4518 - accuracy: 0.7723 - val_loss: 0.8480 - val_accuracy: 0.4927\n",
            "Epoch 166/300\n",
            "27/27 [==============================] - 0s 8ms/step - loss: 0.4591 - accuracy: 0.7569 - val_loss: 0.8413 - val_accuracy: 0.4927\n",
            "Epoch 167/300\n",
            "27/27 [==============================] - 0s 7ms/step - loss: 0.4491 - accuracy: 0.7807 - val_loss: 0.8375 - val_accuracy: 0.5000\n",
            "Epoch 168/300\n",
            "27/27 [==============================] - 0s 7ms/step - loss: 0.4444 - accuracy: 0.7628 - val_loss: 0.8504 - val_accuracy: 0.5049\n",
            "Epoch 169/300\n",
            "27/27 [==============================] - 0s 7ms/step - loss: 0.4444 - accuracy: 0.7628 - val_loss: 0.8449 - val_accuracy: 0.5268\n",
            "Epoch 170/300\n",
            "27/27 [==============================] - 0s 7ms/step - loss: 0.4459 - accuracy: 0.7795 - val_loss: 0.8540 - val_accuracy: 0.5024\n",
            "Epoch 171/300\n",
            "27/27 [==============================] - 0s 8ms/step - loss: 0.4325 - accuracy: 0.7878 - val_loss: 0.8357 - val_accuracy: 0.4878\n",
            "Epoch 172/300\n",
            "27/27 [==============================] - 0s 7ms/step - loss: 0.4338 - accuracy: 0.7819 - val_loss: 0.8539 - val_accuracy: 0.4854\n",
            "Epoch 173/300\n",
            "27/27 [==============================] - 0s 7ms/step - loss: 0.4409 - accuracy: 0.7735 - val_loss: 0.8468 - val_accuracy: 0.4976\n",
            "Epoch 174/300\n",
            "27/27 [==============================] - 0s 7ms/step - loss: 0.4435 - accuracy: 0.7688 - val_loss: 0.8411 - val_accuracy: 0.5024\n",
            "Epoch 175/300\n",
            "27/27 [==============================] - 0s 7ms/step - loss: 0.4369 - accuracy: 0.7783 - val_loss: 0.8333 - val_accuracy: 0.5098\n",
            "Epoch 176/300\n",
            "27/27 [==============================] - 0s 7ms/step - loss: 0.4267 - accuracy: 0.7843 - val_loss: 0.8515 - val_accuracy: 0.5024\n",
            "Epoch 177/300\n",
            "27/27 [==============================] - 0s 7ms/step - loss: 0.4208 - accuracy: 0.7843 - val_loss: 0.8436 - val_accuracy: 0.5073\n",
            "Epoch 178/300\n",
            "27/27 [==============================] - 0s 7ms/step - loss: 0.4190 - accuracy: 0.7914 - val_loss: 0.8565 - val_accuracy: 0.5024\n",
            "Epoch 179/300\n",
            "27/27 [==============================] - 0s 7ms/step - loss: 0.4179 - accuracy: 0.7843 - val_loss: 0.8687 - val_accuracy: 0.5000\n",
            "Epoch 180/300\n",
            "27/27 [==============================] - 0s 7ms/step - loss: 0.4185 - accuracy: 0.7867 - val_loss: 0.8583 - val_accuracy: 0.5195\n",
            "Epoch 181/300\n",
            "27/27 [==============================] - 0s 7ms/step - loss: 0.4093 - accuracy: 0.8021 - val_loss: 0.8768 - val_accuracy: 0.4976\n",
            "Epoch 182/300\n",
            "27/27 [==============================] - 0s 7ms/step - loss: 0.4186 - accuracy: 0.7902 - val_loss: 0.8572 - val_accuracy: 0.4902\n",
            "Epoch 183/300\n",
            "27/27 [==============================] - 0s 7ms/step - loss: 0.4115 - accuracy: 0.7974 - val_loss: 0.8599 - val_accuracy: 0.5049\n",
            "Epoch 184/300\n",
            "27/27 [==============================] - 0s 6ms/step - loss: 0.4078 - accuracy: 0.7974 - val_loss: 0.8613 - val_accuracy: 0.5122\n",
            "Epoch 185/300\n",
            "27/27 [==============================] - 0s 6ms/step - loss: 0.4041 - accuracy: 0.8057 - val_loss: 0.8635 - val_accuracy: 0.4951\n",
            "Epoch 186/300\n",
            "27/27 [==============================] - 0s 7ms/step - loss: 0.3986 - accuracy: 0.8188 - val_loss: 0.8695 - val_accuracy: 0.5098\n",
            "Epoch 187/300\n",
            "27/27 [==============================] - 0s 7ms/step - loss: 0.3968 - accuracy: 0.8081 - val_loss: 0.8808 - val_accuracy: 0.4829\n",
            "Epoch 188/300\n",
            "27/27 [==============================] - 0s 7ms/step - loss: 0.3954 - accuracy: 0.8188 - val_loss: 0.8631 - val_accuracy: 0.4927\n",
            "Epoch 189/300\n",
            "27/27 [==============================] - 0s 7ms/step - loss: 0.3975 - accuracy: 0.8129 - val_loss: 0.8784 - val_accuracy: 0.5122\n",
            "Epoch 190/300\n",
            "27/27 [==============================] - 0s 7ms/step - loss: 0.4069 - accuracy: 0.8069 - val_loss: 0.8745 - val_accuracy: 0.4927\n",
            "Epoch 191/300\n",
            "27/27 [==============================] - 0s 7ms/step - loss: 0.3955 - accuracy: 0.8069 - val_loss: 0.8907 - val_accuracy: 0.4854\n",
            "Epoch 192/300\n",
            "27/27 [==============================] - 0s 7ms/step - loss: 0.3987 - accuracy: 0.8176 - val_loss: 0.8926 - val_accuracy: 0.4951\n",
            "Epoch 193/300\n",
            "27/27 [==============================] - 0s 7ms/step - loss: 0.3881 - accuracy: 0.8105 - val_loss: 0.8881 - val_accuracy: 0.5024\n",
            "Epoch 194/300\n",
            "27/27 [==============================] - 0s 7ms/step - loss: 0.3941 - accuracy: 0.8033 - val_loss: 0.8955 - val_accuracy: 0.5049\n",
            "Epoch 195/300\n",
            "27/27 [==============================] - 0s 7ms/step - loss: 0.3862 - accuracy: 0.8248 - val_loss: 0.8927 - val_accuracy: 0.5049\n",
            "Epoch 196/300\n",
            "27/27 [==============================] - 0s 7ms/step - loss: 0.3832 - accuracy: 0.8224 - val_loss: 0.8770 - val_accuracy: 0.5024\n",
            "Epoch 197/300\n",
            "27/27 [==============================] - 0s 7ms/step - loss: 0.3780 - accuracy: 0.8248 - val_loss: 0.8814 - val_accuracy: 0.5024\n",
            "Epoch 198/300\n",
            "27/27 [==============================] - 0s 7ms/step - loss: 0.3807 - accuracy: 0.8176 - val_loss: 0.8953 - val_accuracy: 0.5049\n",
            "Epoch 199/300\n",
            "27/27 [==============================] - 0s 7ms/step - loss: 0.3777 - accuracy: 0.8236 - val_loss: 0.8971 - val_accuracy: 0.4976\n",
            "Epoch 200/300\n",
            "27/27 [==============================] - 0s 7ms/step - loss: 0.3738 - accuracy: 0.8188 - val_loss: 0.9011 - val_accuracy: 0.5024\n",
            "Epoch 201/300\n",
            "27/27 [==============================] - 0s 7ms/step - loss: 0.3663 - accuracy: 0.8355 - val_loss: 0.9061 - val_accuracy: 0.4927\n",
            "Epoch 202/300\n",
            "27/27 [==============================] - 0s 7ms/step - loss: 0.3718 - accuracy: 0.8272 - val_loss: 0.9172 - val_accuracy: 0.4902\n",
            "Epoch 203/300\n",
            "27/27 [==============================] - 0s 7ms/step - loss: 0.3660 - accuracy: 0.8319 - val_loss: 0.8988 - val_accuracy: 0.5024\n",
            "Epoch 204/300\n",
            "27/27 [==============================] - 0s 7ms/step - loss: 0.3610 - accuracy: 0.8391 - val_loss: 0.9135 - val_accuracy: 0.4976\n",
            "Epoch 205/300\n",
            "27/27 [==============================] - 0s 7ms/step - loss: 0.3591 - accuracy: 0.8355 - val_loss: 0.9126 - val_accuracy: 0.4927\n",
            "Epoch 206/300\n",
            "27/27 [==============================] - 0s 7ms/step - loss: 0.3549 - accuracy: 0.8331 - val_loss: 0.9187 - val_accuracy: 0.4927\n",
            "Epoch 207/300\n",
            "27/27 [==============================] - 0s 7ms/step - loss: 0.3536 - accuracy: 0.8343 - val_loss: 0.9156 - val_accuracy: 0.4927\n",
            "Epoch 208/300\n",
            "27/27 [==============================] - 0s 8ms/step - loss: 0.3526 - accuracy: 0.8355 - val_loss: 0.9213 - val_accuracy: 0.5073\n",
            "Epoch 209/300\n",
            "27/27 [==============================] - 0s 7ms/step - loss: 0.3566 - accuracy: 0.8391 - val_loss: 0.9182 - val_accuracy: 0.5000\n",
            "Epoch 210/300\n",
            "27/27 [==============================] - 0s 7ms/step - loss: 0.3525 - accuracy: 0.8343 - val_loss: 0.9243 - val_accuracy: 0.5000\n",
            "Epoch 211/300\n",
            "27/27 [==============================] - 0s 7ms/step - loss: 0.3484 - accuracy: 0.8391 - val_loss: 0.9159 - val_accuracy: 0.4878\n",
            "Epoch 212/300\n",
            "27/27 [==============================] - 0s 8ms/step - loss: 0.3471 - accuracy: 0.8451 - val_loss: 0.9216 - val_accuracy: 0.4805\n",
            "Epoch 213/300\n",
            "27/27 [==============================] - 0s 7ms/step - loss: 0.3543 - accuracy: 0.8355 - val_loss: 0.9257 - val_accuracy: 0.5024\n",
            "Epoch 214/300\n",
            "27/27 [==============================] - 0s 7ms/step - loss: 0.3429 - accuracy: 0.8522 - val_loss: 0.9370 - val_accuracy: 0.4902\n",
            "Epoch 215/300\n",
            "27/27 [==============================] - 0s 7ms/step - loss: 0.3417 - accuracy: 0.8403 - val_loss: 0.9311 - val_accuracy: 0.4927\n",
            "Epoch 216/300\n",
            "27/27 [==============================] - 0s 7ms/step - loss: 0.3356 - accuracy: 0.8498 - val_loss: 0.9350 - val_accuracy: 0.4854\n",
            "Epoch 217/300\n",
            "27/27 [==============================] - 0s 8ms/step - loss: 0.3379 - accuracy: 0.8427 - val_loss: 0.9389 - val_accuracy: 0.4878\n",
            "Epoch 218/300\n",
            "27/27 [==============================] - 0s 7ms/step - loss: 0.3297 - accuracy: 0.8510 - val_loss: 0.9495 - val_accuracy: 0.4805\n",
            "Epoch 219/300\n",
            "27/27 [==============================] - 0s 7ms/step - loss: 0.3335 - accuracy: 0.8510 - val_loss: 0.9453 - val_accuracy: 0.4805\n",
            "Epoch 220/300\n",
            "27/27 [==============================] - 0s 7ms/step - loss: 0.3281 - accuracy: 0.8534 - val_loss: 0.9625 - val_accuracy: 0.4805\n",
            "Epoch 221/300\n",
            "27/27 [==============================] - 0s 7ms/step - loss: 0.3259 - accuracy: 0.8522 - val_loss: 0.9585 - val_accuracy: 0.4805\n",
            "Epoch 222/300\n",
            "27/27 [==============================] - 0s 7ms/step - loss: 0.3401 - accuracy: 0.8462 - val_loss: 0.9669 - val_accuracy: 0.4683\n",
            "Epoch 223/300\n",
            "27/27 [==============================] - 0s 7ms/step - loss: 0.3299 - accuracy: 0.8510 - val_loss: 0.9532 - val_accuracy: 0.4780\n",
            "Epoch 224/300\n",
            "27/27 [==============================] - 0s 6ms/step - loss: 0.3255 - accuracy: 0.8546 - val_loss: 0.9574 - val_accuracy: 0.4707\n",
            "Epoch 225/300\n",
            "27/27 [==============================] - 0s 7ms/step - loss: 0.3288 - accuracy: 0.8415 - val_loss: 0.9756 - val_accuracy: 0.4927\n",
            "Epoch 226/300\n",
            "27/27 [==============================] - 0s 7ms/step - loss: 0.3260 - accuracy: 0.8546 - val_loss: 0.9669 - val_accuracy: 0.4805\n",
            "Epoch 227/300\n",
            "27/27 [==============================] - 0s 7ms/step - loss: 0.3240 - accuracy: 0.8486 - val_loss: 0.9775 - val_accuracy: 0.4854\n",
            "Epoch 228/300\n",
            "27/27 [==============================] - 0s 7ms/step - loss: 0.3290 - accuracy: 0.8570 - val_loss: 0.9670 - val_accuracy: 0.4902\n",
            "Epoch 229/300\n",
            "27/27 [==============================] - 0s 7ms/step - loss: 0.3217 - accuracy: 0.8522 - val_loss: 0.9595 - val_accuracy: 0.5073\n",
            "Epoch 230/300\n",
            "27/27 [==============================] - 0s 7ms/step - loss: 0.3376 - accuracy: 0.8379 - val_loss: 0.9788 - val_accuracy: 0.4902\n",
            "Epoch 231/300\n",
            "27/27 [==============================] - 0s 7ms/step - loss: 0.3087 - accuracy: 0.8594 - val_loss: 0.9659 - val_accuracy: 0.4902\n",
            "Epoch 232/300\n",
            "27/27 [==============================] - 0s 8ms/step - loss: 0.3054 - accuracy: 0.8617 - val_loss: 0.9770 - val_accuracy: 0.4780\n",
            "Epoch 233/300\n",
            "27/27 [==============================] - 0s 7ms/step - loss: 0.3054 - accuracy: 0.8760 - val_loss: 0.9643 - val_accuracy: 0.4829\n",
            "Epoch 234/300\n",
            "27/27 [==============================] - 0s 7ms/step - loss: 0.2996 - accuracy: 0.8701 - val_loss: 0.9722 - val_accuracy: 0.4805\n",
            "Epoch 235/300\n",
            "27/27 [==============================] - 0s 7ms/step - loss: 0.3018 - accuracy: 0.8617 - val_loss: 0.9765 - val_accuracy: 0.4805\n",
            "Epoch 236/300\n",
            "27/27 [==============================] - 0s 7ms/step - loss: 0.2937 - accuracy: 0.8808 - val_loss: 0.9800 - val_accuracy: 0.4805\n",
            "Epoch 237/300\n",
            "27/27 [==============================] - 0s 8ms/step - loss: 0.2933 - accuracy: 0.8725 - val_loss: 1.0214 - val_accuracy: 0.4756\n",
            "Epoch 238/300\n",
            "27/27 [==============================] - 0s 7ms/step - loss: 0.2959 - accuracy: 0.8713 - val_loss: 0.9798 - val_accuracy: 0.4829\n",
            "Epoch 239/300\n",
            "27/27 [==============================] - 0s 7ms/step - loss: 0.2973 - accuracy: 0.8689 - val_loss: 0.9892 - val_accuracy: 0.4805\n",
            "Epoch 240/300\n",
            "27/27 [==============================] - 0s 7ms/step - loss: 0.2907 - accuracy: 0.8725 - val_loss: 1.0135 - val_accuracy: 0.4829\n",
            "Epoch 241/300\n",
            "27/27 [==============================] - 0s 7ms/step - loss: 0.2890 - accuracy: 0.8772 - val_loss: 0.9934 - val_accuracy: 0.4805\n",
            "Epoch 242/300\n",
            "27/27 [==============================] - 0s 7ms/step - loss: 0.2874 - accuracy: 0.8820 - val_loss: 1.0139 - val_accuracy: 0.4683\n",
            "Epoch 243/300\n",
            "27/27 [==============================] - 0s 7ms/step - loss: 0.2825 - accuracy: 0.8832 - val_loss: 1.0283 - val_accuracy: 0.4756\n",
            "Epoch 244/300\n",
            "27/27 [==============================] - 0s 8ms/step - loss: 0.2809 - accuracy: 0.8880 - val_loss: 1.0145 - val_accuracy: 0.4732\n",
            "Epoch 245/300\n",
            "27/27 [==============================] - 0s 7ms/step - loss: 0.2750 - accuracy: 0.8868 - val_loss: 1.0169 - val_accuracy: 0.4707\n",
            "Epoch 246/300\n",
            "27/27 [==============================] - 0s 8ms/step - loss: 0.2736 - accuracy: 0.8868 - val_loss: 1.0224 - val_accuracy: 0.4707\n",
            "Epoch 247/300\n",
            "27/27 [==============================] - 0s 7ms/step - loss: 0.2840 - accuracy: 0.8760 - val_loss: 1.0488 - val_accuracy: 0.4756\n",
            "Epoch 248/300\n",
            "27/27 [==============================] - 0s 7ms/step - loss: 0.2777 - accuracy: 0.8832 - val_loss: 1.0357 - val_accuracy: 0.4780\n",
            "Epoch 249/300\n",
            "27/27 [==============================] - 0s 7ms/step - loss: 0.2727 - accuracy: 0.8844 - val_loss: 1.0272 - val_accuracy: 0.4976\n",
            "Epoch 250/300\n",
            "27/27 [==============================] - 0s 7ms/step - loss: 0.2728 - accuracy: 0.8844 - val_loss: 1.0435 - val_accuracy: 0.4878\n",
            "Epoch 251/300\n",
            "27/27 [==============================] - 0s 8ms/step - loss: 0.2695 - accuracy: 0.8903 - val_loss: 1.0313 - val_accuracy: 0.4829\n",
            "Epoch 252/300\n",
            "27/27 [==============================] - 0s 7ms/step - loss: 0.2748 - accuracy: 0.8832 - val_loss: 1.0205 - val_accuracy: 0.4854\n",
            "Epoch 253/300\n",
            "27/27 [==============================] - 0s 7ms/step - loss: 0.2651 - accuracy: 0.8892 - val_loss: 1.0564 - val_accuracy: 0.4585\n",
            "Epoch 254/300\n",
            "27/27 [==============================] - 0s 7ms/step - loss: 0.2836 - accuracy: 0.8784 - val_loss: 1.0138 - val_accuracy: 0.5024\n",
            "Epoch 255/300\n",
            "27/27 [==============================] - 0s 8ms/step - loss: 0.2833 - accuracy: 0.8772 - val_loss: 1.0711 - val_accuracy: 0.4732\n",
            "Epoch 256/300\n",
            "27/27 [==============================] - 0s 8ms/step - loss: 0.2641 - accuracy: 0.8939 - val_loss: 1.0582 - val_accuracy: 0.4829\n",
            "Epoch 257/300\n",
            "27/27 [==============================] - 0s 8ms/step - loss: 0.2544 - accuracy: 0.9011 - val_loss: 1.0551 - val_accuracy: 0.4634\n",
            "Epoch 258/300\n",
            "27/27 [==============================] - 0s 8ms/step - loss: 0.2586 - accuracy: 0.8880 - val_loss: 1.0523 - val_accuracy: 0.4780\n",
            "Epoch 259/300\n",
            "27/27 [==============================] - 0s 7ms/step - loss: 0.2552 - accuracy: 0.8999 - val_loss: 1.0482 - val_accuracy: 0.4829\n",
            "Epoch 260/300\n",
            "27/27 [==============================] - 0s 7ms/step - loss: 0.2510 - accuracy: 0.8927 - val_loss: 1.0822 - val_accuracy: 0.4756\n",
            "Epoch 261/300\n",
            "27/27 [==============================] - 0s 7ms/step - loss: 0.2426 - accuracy: 0.9046 - val_loss: 1.0651 - val_accuracy: 0.4732\n",
            "Epoch 262/300\n",
            "27/27 [==============================] - 0s 7ms/step - loss: 0.2479 - accuracy: 0.8987 - val_loss: 1.0679 - val_accuracy: 0.4854\n",
            "Epoch 263/300\n",
            "27/27 [==============================] - 0s 8ms/step - loss: 0.2478 - accuracy: 0.8999 - val_loss: 1.0925 - val_accuracy: 0.4854\n",
            "Epoch 264/300\n",
            "27/27 [==============================] - 0s 7ms/step - loss: 0.2392 - accuracy: 0.8975 - val_loss: 1.0538 - val_accuracy: 0.4780\n",
            "Epoch 265/300\n",
            "27/27 [==============================] - 0s 7ms/step - loss: 0.2327 - accuracy: 0.9058 - val_loss: 1.1096 - val_accuracy: 0.4732\n",
            "Epoch 266/300\n",
            "27/27 [==============================] - 0s 7ms/step - loss: 0.2410 - accuracy: 0.8975 - val_loss: 1.0784 - val_accuracy: 0.4707\n",
            "Epoch 267/300\n",
            "27/27 [==============================] - 0s 7ms/step - loss: 0.2554 - accuracy: 0.8999 - val_loss: 1.0873 - val_accuracy: 0.4683\n",
            "Epoch 268/300\n",
            "27/27 [==============================] - 0s 7ms/step - loss: 0.2315 - accuracy: 0.9011 - val_loss: 1.0880 - val_accuracy: 0.4805\n",
            "Epoch 269/300\n",
            "27/27 [==============================] - 0s 7ms/step - loss: 0.2262 - accuracy: 0.9118 - val_loss: 1.0952 - val_accuracy: 0.4829\n",
            "Epoch 270/300\n",
            "27/27 [==============================] - 0s 7ms/step - loss: 0.2249 - accuracy: 0.9023 - val_loss: 1.1070 - val_accuracy: 0.4756\n",
            "Epoch 271/300\n",
            "27/27 [==============================] - 0s 8ms/step - loss: 0.2205 - accuracy: 0.9106 - val_loss: 1.1060 - val_accuracy: 0.4732\n",
            "Epoch 272/300\n",
            "27/27 [==============================] - 0s 7ms/step - loss: 0.2201 - accuracy: 0.9166 - val_loss: 1.1154 - val_accuracy: 0.4732\n",
            "Epoch 273/300\n",
            "27/27 [==============================] - 0s 7ms/step - loss: 0.2219 - accuracy: 0.9082 - val_loss: 1.0911 - val_accuracy: 0.4976\n",
            "Epoch 274/300\n",
            "27/27 [==============================] - 0s 7ms/step - loss: 0.2187 - accuracy: 0.9058 - val_loss: 1.1338 - val_accuracy: 0.4585\n",
            "Epoch 275/300\n",
            "27/27 [==============================] - 0s 7ms/step - loss: 0.2215 - accuracy: 0.9106 - val_loss: 1.1262 - val_accuracy: 0.4805\n",
            "Epoch 276/300\n",
            "27/27 [==============================] - 0s 7ms/step - loss: 0.2132 - accuracy: 0.9178 - val_loss: 1.1233 - val_accuracy: 0.4732\n",
            "Epoch 277/300\n",
            "27/27 [==============================] - 0s 8ms/step - loss: 0.2170 - accuracy: 0.9070 - val_loss: 1.1599 - val_accuracy: 0.4659\n",
            "Epoch 278/300\n",
            "27/27 [==============================] - 0s 7ms/step - loss: 0.2128 - accuracy: 0.9142 - val_loss: 1.1015 - val_accuracy: 0.4902\n",
            "Epoch 279/300\n",
            "27/27 [==============================] - 0s 7ms/step - loss: 0.2071 - accuracy: 0.9178 - val_loss: 1.1414 - val_accuracy: 0.4683\n",
            "Epoch 280/300\n",
            "27/27 [==============================] - 0s 7ms/step - loss: 0.2274 - accuracy: 0.9082 - val_loss: 1.1374 - val_accuracy: 0.4854\n",
            "Epoch 281/300\n",
            "27/27 [==============================] - 0s 7ms/step - loss: 0.2597 - accuracy: 0.8963 - val_loss: 1.1422 - val_accuracy: 0.4780\n",
            "Epoch 282/300\n",
            "27/27 [==============================] - 0s 7ms/step - loss: 0.2231 - accuracy: 0.9142 - val_loss: 1.1085 - val_accuracy: 0.4780\n",
            "Epoch 283/300\n",
            "27/27 [==============================] - 0s 7ms/step - loss: 0.2137 - accuracy: 0.9118 - val_loss: 1.1634 - val_accuracy: 0.4732\n",
            "Epoch 284/300\n",
            "27/27 [==============================] - 0s 7ms/step - loss: 0.2079 - accuracy: 0.9082 - val_loss: 1.1992 - val_accuracy: 0.4780\n",
            "Epoch 285/300\n",
            "27/27 [==============================] - 0s 7ms/step - loss: 0.2029 - accuracy: 0.9201 - val_loss: 1.1678 - val_accuracy: 0.4780\n",
            "Epoch 286/300\n",
            "27/27 [==============================] - 0s 7ms/step - loss: 0.1970 - accuracy: 0.9273 - val_loss: 1.1620 - val_accuracy: 0.4732\n",
            "Epoch 287/300\n",
            "27/27 [==============================] - 0s 7ms/step - loss: 0.1929 - accuracy: 0.9178 - val_loss: 1.1598 - val_accuracy: 0.4927\n",
            "Epoch 288/300\n",
            "27/27 [==============================] - 0s 7ms/step - loss: 0.1947 - accuracy: 0.9190 - val_loss: 1.1701 - val_accuracy: 0.4780\n",
            "Epoch 289/300\n",
            "27/27 [==============================] - 0s 8ms/step - loss: 0.1904 - accuracy: 0.9285 - val_loss: 1.1952 - val_accuracy: 0.4659\n",
            "Epoch 290/300\n",
            "27/27 [==============================] - 0s 8ms/step - loss: 0.1891 - accuracy: 0.9237 - val_loss: 1.1998 - val_accuracy: 0.4732\n",
            "Epoch 291/300\n",
            "27/27 [==============================] - 0s 7ms/step - loss: 0.1910 - accuracy: 0.9249 - val_loss: 1.1940 - val_accuracy: 0.4927\n",
            "Epoch 292/300\n",
            "27/27 [==============================] - 0s 7ms/step - loss: 0.1928 - accuracy: 0.9249 - val_loss: 1.2060 - val_accuracy: 0.4805\n",
            "Epoch 293/300\n",
            "27/27 [==============================] - 0s 7ms/step - loss: 0.1824 - accuracy: 0.9368 - val_loss: 1.2082 - val_accuracy: 0.4805\n",
            "Epoch 294/300\n",
            "27/27 [==============================] - 0s 7ms/step - loss: 0.1981 - accuracy: 0.9225 - val_loss: 1.2047 - val_accuracy: 0.4683\n",
            "Epoch 295/300\n",
            "27/27 [==============================] - 0s 8ms/step - loss: 0.1813 - accuracy: 0.9356 - val_loss: 1.2141 - val_accuracy: 0.4902\n",
            "Epoch 296/300\n",
            "27/27 [==============================] - 0s 7ms/step - loss: 0.1869 - accuracy: 0.9261 - val_loss: 1.2159 - val_accuracy: 0.4878\n",
            "Epoch 297/300\n",
            "27/27 [==============================] - 0s 7ms/step - loss: 0.1768 - accuracy: 0.9344 - val_loss: 1.2042 - val_accuracy: 0.4854\n",
            "Epoch 298/300\n",
            "27/27 [==============================] - 0s 8ms/step - loss: 0.1768 - accuracy: 0.9309 - val_loss: 1.2051 - val_accuracy: 0.4780\n",
            "Epoch 299/300\n",
            "27/27 [==============================] - 0s 8ms/step - loss: 0.1746 - accuracy: 0.9356 - val_loss: 1.2807 - val_accuracy: 0.4829\n",
            "Epoch 300/300\n",
            "27/27 [==============================] - 0s 8ms/step - loss: 0.1739 - accuracy: 0.9333 - val_loss: 1.2541 - val_accuracy: 0.4902\n"
          ],
          "name": "stdout"
        }
      ]
    },
    {
      "cell_type": "code",
      "metadata": {
        "id": "NpxTxdewYtrD",
        "colab_type": "code",
        "colab": {
          "base_uri": "https://localhost:8080/",
          "height": 265
        },
        "outputId": "5797eba0-5324-4905-dc08-460fee488c85"
      },
      "source": [
        "# plot the loss\n",
        "plt.plot(r.history['loss'], label='loss')\n",
        "plt.plot(r.history['val_loss'], label='val_loss')\n",
        "plt.legend()\n",
        "plt.show()"
      ],
      "execution_count": 46,
      "outputs": [
        {
          "output_type": "display_data",
          "data": {
            "image/png": "[encoded data removed]",
            "text/plain": [
              "<Figure size 432x288 with 1 Axes>"
            ]
          },
          "metadata": {
            "tags": [],
            "needs_background": "light"
          }
        }
      ]
    },
    {
      "cell_type": "code",
      "metadata": {
        "id": "QXBIK0n4Y1TX",
        "colab_type": "code",
        "colab": {
          "base_uri": "https://localhost:8080/",
          "height": 265
        },
        "outputId": "333ee78b-38b6-4385-97d0-8cecfbe52909"
      },
      "source": [
        "# Plot accuracy per iteration\n",
        "plt.plot(r.history['accuracy'], label='accuracy')\n",
        "plt.plot(r.history['val_accuracy'], label='val_accuracy')\n",
        "plt.legend()\n",
        "plt.show()"
      ],
      "execution_count": 47,
      "outputs": [
        {
          "output_type": "display_data",
          "data": {
            "image/png": "[encoded data removed]",
            "text/plain": [
              "<Figure size 432x288 with 1 Axes>"
            ]
          },
          "metadata": {
            "tags": [],
            "needs_background": "light"
          }
        }
      ]
    },
    {
      "cell_type": "code",
      "metadata": {
        "id": "vijciSXPZvM9",
        "colab_type": "code",
        "colab": {}
      },
      "source": [
        ""
      ],
      "execution_count": null,
      "outputs": []
    }
  ]
}